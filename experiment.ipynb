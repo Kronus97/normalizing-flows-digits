{
  "nbformat": 4,
  "nbformat_minor": 0,
  "metadata": {
    "colab": {
      "name": "MAF-MNIST.ipynb",
      "provenance": [],
      "collapsed_sections": []
    },
    "kernelspec": {
      "display_name": "Python 3",
      "name": "python3"
    },
    "language_info": {
      "name": "python"
    },
    "accelerator": "GPU"
  },
  "cells": [
    {
      "cell_type": "markdown",
      "metadata": {
        "id": "amiBlH_Mi5y2"
      },
      "source": [
        "Imports\n"
      ]
    },
    {
      "cell_type": "code",
      "metadata": {
        "colab": {
          "base_uri": "https://localhost:8080/"
        },
        "id": "9SRJi9sfimRc",
        "outputId": "70605370-bba4-4cd9-dae1-674ffadb1a56"
      },
      "source": [
        "import matplotlib.pyplot as plt\n",
        "import sklearn.datasets as datasets\n",
        "import numpy as np\n",
        "\n",
        "import random\n",
        "from datetime import date\n",
        "\n",
        "import torch\n",
        "from torch import nn\n",
        "from torch import optim\n",
        "from torch.utils.data import TensorDataset, DataLoader\n",
        "\n",
        "! pip install nflows\n",
        "from nflows.flows.base import Flow\n",
        "from nflows.distributions.normal import StandardNormal, ConditionalDiagonalNormal\n",
        "from nflows.transforms.base import CompositeTransform\n",
        "from nflows.transforms.autoregressive import MaskedAffineAutoregressiveTransform\n",
        "from nflows.transforms.permutations import ReversePermutation"
      ],
      "execution_count": 1,
      "outputs": [
        {
          "output_type": "stream",
          "name": "stdout",
          "text": [
            "Collecting nflows\n",
            "  Downloading nflows-0.14.tar.gz (45 kB)\n",
            "\u001b[?25l\r\u001b[K     |███████▏                        | 10 kB 28.3 MB/s eta 0:00:01\r\u001b[K     |██████████████▎                 | 20 kB 8.4 MB/s eta 0:00:01\r\u001b[K     |█████████████████████▌          | 30 kB 7.4 MB/s eta 0:00:01\r\u001b[K     |████████████████████████████▋   | 40 kB 7.2 MB/s eta 0:00:01\r\u001b[K     |████████████████████████████████| 45 kB 1.6 MB/s \n",
            "\u001b[?25hRequirement already satisfied: matplotlib in /usr/local/lib/python3.7/dist-packages (from nflows) (3.2.2)\n",
            "Requirement already satisfied: numpy in /usr/local/lib/python3.7/dist-packages (from nflows) (1.19.5)\n",
            "Requirement already satisfied: tensorboard in /usr/local/lib/python3.7/dist-packages (from nflows) (2.7.0)\n",
            "Requirement already satisfied: torch in /usr/local/lib/python3.7/dist-packages (from nflows) (1.10.0+cu111)\n",
            "Requirement already satisfied: tqdm in /usr/local/lib/python3.7/dist-packages (from nflows) (4.62.3)\n",
            "Requirement already satisfied: python-dateutil>=2.1 in /usr/local/lib/python3.7/dist-packages (from matplotlib->nflows) (2.8.2)\n",
            "Requirement already satisfied: cycler>=0.10 in /usr/local/lib/python3.7/dist-packages (from matplotlib->nflows) (0.11.0)\n",
            "Requirement already satisfied: kiwisolver>=1.0.1 in /usr/local/lib/python3.7/dist-packages (from matplotlib->nflows) (1.3.2)\n",
            "Requirement already satisfied: pyparsing!=2.0.4,!=2.1.2,!=2.1.6,>=2.0.1 in /usr/local/lib/python3.7/dist-packages (from matplotlib->nflows) (3.0.6)\n",
            "Requirement already satisfied: six>=1.5 in /usr/local/lib/python3.7/dist-packages (from python-dateutil>=2.1->matplotlib->nflows) (1.15.0)\n",
            "Requirement already satisfied: tensorboard-data-server<0.7.0,>=0.6.0 in /usr/local/lib/python3.7/dist-packages (from tensorboard->nflows) (0.6.1)\n",
            "Requirement already satisfied: werkzeug>=0.11.15 in /usr/local/lib/python3.7/dist-packages (from tensorboard->nflows) (1.0.1)\n",
            "Requirement already satisfied: absl-py>=0.4 in /usr/local/lib/python3.7/dist-packages (from tensorboard->nflows) (0.12.0)\n",
            "Requirement already satisfied: protobuf>=3.6.0 in /usr/local/lib/python3.7/dist-packages (from tensorboard->nflows) (3.17.3)\n",
            "Requirement already satisfied: grpcio>=1.24.3 in /usr/local/lib/python3.7/dist-packages (from tensorboard->nflows) (1.42.0)\n",
            "Requirement already satisfied: wheel>=0.26 in /usr/local/lib/python3.7/dist-packages (from tensorboard->nflows) (0.37.0)\n",
            "Requirement already satisfied: markdown>=2.6.8 in /usr/local/lib/python3.7/dist-packages (from tensorboard->nflows) (3.3.6)\n",
            "Requirement already satisfied: setuptools>=41.0.0 in /usr/local/lib/python3.7/dist-packages (from tensorboard->nflows) (57.4.0)\n",
            "Requirement already satisfied: requests<3,>=2.21.0 in /usr/local/lib/python3.7/dist-packages (from tensorboard->nflows) (2.23.0)\n",
            "Requirement already satisfied: tensorboard-plugin-wit>=1.6.0 in /usr/local/lib/python3.7/dist-packages (from tensorboard->nflows) (1.8.0)\n",
            "Requirement already satisfied: google-auth-oauthlib<0.5,>=0.4.1 in /usr/local/lib/python3.7/dist-packages (from tensorboard->nflows) (0.4.6)\n",
            "Requirement already satisfied: google-auth<3,>=1.6.3 in /usr/local/lib/python3.7/dist-packages (from tensorboard->nflows) (1.35.0)\n",
            "Requirement already satisfied: cachetools<5.0,>=2.0.0 in /usr/local/lib/python3.7/dist-packages (from google-auth<3,>=1.6.3->tensorboard->nflows) (4.2.4)\n",
            "Requirement already satisfied: pyasn1-modules>=0.2.1 in /usr/local/lib/python3.7/dist-packages (from google-auth<3,>=1.6.3->tensorboard->nflows) (0.2.8)\n",
            "Requirement already satisfied: rsa<5,>=3.1.4 in /usr/local/lib/python3.7/dist-packages (from google-auth<3,>=1.6.3->tensorboard->nflows) (4.7.2)\n",
            "Requirement already satisfied: requests-oauthlib>=0.7.0 in /usr/local/lib/python3.7/dist-packages (from google-auth-oauthlib<0.5,>=0.4.1->tensorboard->nflows) (1.3.0)\n",
            "Requirement already satisfied: importlib-metadata>=4.4 in /usr/local/lib/python3.7/dist-packages (from markdown>=2.6.8->tensorboard->nflows) (4.8.2)\n",
            "Requirement already satisfied: typing-extensions>=3.6.4 in /usr/local/lib/python3.7/dist-packages (from importlib-metadata>=4.4->markdown>=2.6.8->tensorboard->nflows) (3.10.0.2)\n",
            "Requirement already satisfied: zipp>=0.5 in /usr/local/lib/python3.7/dist-packages (from importlib-metadata>=4.4->markdown>=2.6.8->tensorboard->nflows) (3.6.0)\n",
            "Requirement already satisfied: pyasn1<0.5.0,>=0.4.6 in /usr/local/lib/python3.7/dist-packages (from pyasn1-modules>=0.2.1->google-auth<3,>=1.6.3->tensorboard->nflows) (0.4.8)\n",
            "Requirement already satisfied: certifi>=2017.4.17 in /usr/local/lib/python3.7/dist-packages (from requests<3,>=2.21.0->tensorboard->nflows) (2021.10.8)\n",
            "Requirement already satisfied: idna<3,>=2.5 in /usr/local/lib/python3.7/dist-packages (from requests<3,>=2.21.0->tensorboard->nflows) (2.10)\n",
            "Requirement already satisfied: chardet<4,>=3.0.2 in /usr/local/lib/python3.7/dist-packages (from requests<3,>=2.21.0->tensorboard->nflows) (3.0.4)\n",
            "Requirement already satisfied: urllib3!=1.25.0,!=1.25.1,<1.26,>=1.21.1 in /usr/local/lib/python3.7/dist-packages (from requests<3,>=2.21.0->tensorboard->nflows) (1.24.3)\n",
            "Requirement already satisfied: oauthlib>=3.0.0 in /usr/local/lib/python3.7/dist-packages (from requests-oauthlib>=0.7.0->google-auth-oauthlib<0.5,>=0.4.1->tensorboard->nflows) (3.1.1)\n",
            "Building wheels for collected packages: nflows\n",
            "  Building wheel for nflows (setup.py) ... \u001b[?25l\u001b[?25hdone\n",
            "  Created wheel for nflows: filename=nflows-0.14-py3-none-any.whl size=53671 sha256=81a19aaaea3d534000c0fcae10f16763384f2fad3dd3e4be1374e1a1c5564ea5\n",
            "  Stored in directory: /root/.cache/pip/wheels/c0/b6/52/0092eedabce8f7faa35b92522393fbdc1ec5ede99b0ec820d5\n",
            "Successfully built nflows\n",
            "Installing collected packages: nflows\n",
            "Successfully installed nflows-0.14\n"
          ]
        }
      ]
    },
    {
      "cell_type": "markdown",
      "metadata": {
        "id": "kZ-HjTWTOtij"
      },
      "source": [
        "# MNIST"
      ]
    },
    {
      "cell_type": "code",
      "metadata": {
        "id": "y_kSAPetNqOO"
      },
      "source": [
        "if torch.cuda.is_available():\n",
        "  device = torch.device('cuda:0')\n",
        "  torch.cuda.set_device(device)"
      ],
      "execution_count": 2,
      "outputs": []
    },
    {
      "cell_type": "code",
      "metadata": {
        "id": "SpiZJbzYOzo9"
      },
      "source": [
        "import gzip\n",
        "import pickle\n",
        "\n",
        "def load_data():\n",
        "  f = gzip.open('mnist.pkl.gz', 'rb')\n",
        "\n",
        "  # fix for encoding of pickle\n",
        "  u = pickle._Unpickler(f)\n",
        "  u.encoding = 'latin1'\n",
        "\n",
        "  train_data, validation_data, test_data = u.load()\n",
        "  f.close()\n",
        "\n",
        "  return (train_data, validation_data, test_data)"
      ],
      "execution_count": 3,
      "outputs": []
    },
    {
      "cell_type": "code",
      "metadata": {
        "id": "IgNSTJfrs_un"
      },
      "source": [
        "def preprocess_data(data, rng, alpha=1.0e-6, logit=False, should_dequantize=True):\n",
        "  \"\"\"\n",
        "  Processes the dataset\n",
        "  \"\"\"\n",
        "  x = dequantize(data[0], rng) if should_dequantize else data[0]  # dequantize pixels\n",
        "  x = logit_transform(x, alpha) if logit else x                   # logit\n",
        "  labels = data[1]                                                # numeric labels\n",
        "  encoded_labels = one_hot_encode(labels, 10)                     # 1-hot encoded labels\n",
        "  return (x, labels, encoded_labels)\n",
        "\n",
        "def dequantize(x, rng):\n",
        "  \"\"\"\n",
        "  Adds noise to pixels to dequantize them\n",
        "  \"\"\"\n",
        "  return x + rng.rand(*x.shape) / 256.0\n",
        "\n",
        "def logit_transform(x, alpha=1.0e-6):\n",
        "  \"\"\"\n",
        "  Transforms pixel values with logit to reduce the impact of boundary effects\n",
        "  \"\"\"\n",
        "  a = alpha + (1 - 2*alpha) * x\n",
        "  return np.log(a / (1.0 - a))\n",
        "\n",
        "def one_hot_encode(labels, nr_labels):\n",
        "  \"\"\"\n",
        "  Transforms numeric labels to 1-hot encoded labels\n",
        "  \"\"\"\n",
        "  y = np.zeros([labels.size, nr_labels])\n",
        "  y[range(labels.size), labels] = 1\n",
        "  return y"
      ],
      "execution_count": 4,
      "outputs": []
    },
    {
      "cell_type": "code",
      "metadata": {
        "id": "t5rEcmrk02zT"
      },
      "source": [
        "def load_vectorized_data():\n",
        "  train_data, validation_data, test_data = load_data()\n",
        "  rng = np.random.RandomState(42)\n",
        "\n",
        "  processed_train_data = preprocess_data(train_data, rng, logit=True)\n",
        "  processed_validation_data = preprocess_data(validation_data, rng, logit=True)\n",
        "  processed_test_data = preprocess_data(test_data, rng, logit=True)\n",
        "  \n",
        "  return (processed_train_data, processed_validation_data, processed_test_data)"
      ],
      "execution_count": 5,
      "outputs": []
    },
    {
      "cell_type": "code",
      "metadata": {
        "id": "MWIAnX_Hz5Kx"
      },
      "source": [
        "train_data, validation_data, test_data = load_vectorized_data()\n",
        "\n",
        "train_x = train_data[0]\n",
        "train_labels = train_data[1]\n",
        "train_y = train_data[2]\n",
        "\n",
        "val_x = validation_data[0]\n",
        "val_labels = validation_data[1]\n",
        "val_y = validation_data[2]\n",
        "\n",
        "test_x = test_data[0]\n",
        "test_labels = test_data[1]\n",
        "test_y = test_data[2]"
      ],
      "execution_count": 13,
      "outputs": []
    },
    {
      "cell_type": "code",
      "metadata": {
        "id": "gaBoZr1t296L"
      },
      "source": [
        "def build_flow(num_dim, hidden_features=1024, layers=5, batch_norm=False):\n",
        "  base_dist = StandardNormal(shape=[num_dim])\n",
        "  transforms = []\n",
        "  \n",
        "  for _ in range(layers):\n",
        "    transforms.append(ReversePermutation(features=num_dim))\n",
        "    transforms.append(MaskedAffineAutoregressiveTransform(features=num_dim,\n",
        "                                                          hidden_features=hidden_features,\n",
        "                                                          use_batch_norm=batch_norm))\n",
        "  transform = CompositeTransform(transforms)\n",
        "  return Flow(transform, base_dist)"
      ],
      "execution_count": 6,
      "outputs": []
    },
    {
      "cell_type": "code",
      "metadata": {
        "id": "4NUGATeEdDj1"
      },
      "source": [
        "def build_cond_flow(num_dim, condition='digit', hidden_features=1024, layers=5, batch_norm=False):\n",
        "  posible_conditioning = { 'digit': 10, 'color': 3 }\n",
        "  context_features = posible_conditioning.get(condition, 1)\n",
        "  base_dist = ConditionalDiagonalNormal(shape=[num_dim],\n",
        "                                        context_encoder=nn.Linear(context_features, 2 * num_dim))\n",
        "  transforms = []\n",
        "  \n",
        "  for _ in range(layers):\n",
        "    transforms.append(ReversePermutation(features=num_dim))\n",
        "    transforms.append(MaskedAffineAutoregressiveTransform(features=num_dim,\n",
        "                                                          hidden_features=hidden_features,\n",
        "                                                          use_batch_norm=batch_norm,\n",
        "                                                          context_features=context_features))\n",
        "  \n",
        "  transform = CompositeTransform(transforms)\n",
        "  return Flow(transform, base_dist)"
      ],
      "execution_count": 7,
      "outputs": []
    },
    {
      "cell_type": "code",
      "metadata": {
        "id": "ns7qeA7YKPvv"
      },
      "source": [
        "def plot_loss_progress(progress_trn_loss, progress_val_loss, progress_epoch, best_epoch):\n",
        "  fig, ax = plt.subplots(1, 1)\n",
        "  ax.semilogx(progress_epoch, progress_trn_loss, 'b', label='training')\n",
        "  ax.semilogx(progress_epoch, progress_val_loss, 'r', label='validation')\n",
        "  ax.vlines(best_epoch, ax.get_ylim()[0], ax.get_ylim()[1], color='g', linestyles='dashed', label='best')\n",
        "  ax.set_xlabel('epochs')\n",
        "  ax.set_ylabel('loss')\n",
        "  ax.legend()\n",
        "  plt.show(block=False)"
      ],
      "execution_count": 8,
      "outputs": []
    },
    {
      "cell_type": "code",
      "metadata": {
        "id": "ASq4ewaqXnIv"
      },
      "source": [
        "def train(flow, optimizer, train_loader, val_loader, patience=30, maxepochs=999, monitor_every_batch=False, show_epoch_loss_progress=False, show_flow=False, conditional=False, conditioning_criteria='digit'):\n",
        "  best_val_loss = float('inf')\n",
        "  best_epoch = None\n",
        "  counter_step = 0\n",
        "  progress_epoch = []\n",
        "  progress_trn_loss = []\n",
        "  progress_val_loss = []\n",
        "\n",
        "  for epoch in range(1, maxepochs + 1):\n",
        "    iter = 1\n",
        "\n",
        "    t_loss = 0.0\n",
        "    for x, y, l in train_loader:\n",
        "      optimizer.zero_grad()\n",
        "      train_loss = -flow.log_prob(inputs=x, context=y).mean() if conditional else -flow.log_prob(inputs=x).mean()\n",
        "      train_loss.backward()\n",
        "      optimizer.step()\n",
        "\n",
        "      t_loss = train_loss.cpu().detach().numpy() if torch.cuda.is_available() else train_loss.detach().numpy()\n",
        "      \n",
        "      if monitor_every_batch:\n",
        "        print('Epoch {}, Iteration {}, Train loss {:.5f}'.format(epoch, iter, t_loss))\n",
        "\n",
        "      iter += 1\n",
        "\n",
        "    v_loss = 0.0\n",
        "    flow.eval()\n",
        "    with torch.no_grad():\n",
        "      for x, y, l in val_loader:\n",
        "        val_loss = -flow.log_prob(inputs=x, context=y).mean() if conditional else -flow.log_prob(inputs=x).mean()\n",
        "        v_loss = val_loss.cpu().detach().numpy() if torch.cuda.is_available() else val_loss.detach().numpy()\n",
        "      \n",
        "    progress_trn_loss.append(t_loss)\n",
        "    progress_val_loss.append(v_loss)\n",
        "    progress_epoch.append(epoch)\n",
        "\n",
        "    print('Epoch: {}, Train loss: {:.5f}, Validation loss: {:.5f}'.format(epoch, t_loss, v_loss))\n",
        "\n",
        "    if best_val_loss > v_loss:\n",
        "      best_val_loss = v_loss\n",
        "      today = date.today().strftime(\"%d-%m-%Y\")\n",
        "      filename = \"MAF-MNIST-{}-{}-best.pth\".format(conditioning_criteria if conditional else '', today)\n",
        "      torch.save(flow, \"/content/drive/MyDrive/Colab Notebooks/{}\".format(filename))\n",
        "      best_epoch = epoch\n",
        "      counter_step = 0\n",
        "    else:\n",
        "      if counter_step == patience - 1:\n",
        "        print('Stopped training after {} epochs'.format(epoch))\n",
        "        break\n",
        "      counter_step += 1\n",
        "    \n",
        "  if show_epoch_loss_progress:\n",
        "    plot_loss_progress(progress_trn_loss, progress_val_loss, progress_epoch, best_epoch)\n",
        "\n",
        "  return flow"
      ],
      "execution_count": 18,
      "outputs": []
    },
    {
      "cell_type": "code",
      "metadata": {
        "id": "POaHk4C_vpXe"
      },
      "source": [
        "def color_features(input, randomize=False):\n",
        "  np.random.seed(42)\n",
        "  colors = []\n",
        "  colored_input = np.zeros((input.shape[0], 3, input.shape[1]))\n",
        "\n",
        "  if randomize:\n",
        "    rng = np.random.RandomState(42)\n",
        "    colored_input = dequantize(colored_input, rng)\n",
        "\n",
        "  for i in range(len(input))[:]:\n",
        "    r = np.random.permutation([[1, 0, 0], [0, 1, 0], [0, 0, 1]])\n",
        "    # print(r[0])\n",
        "    colors.append(r[0])\n",
        "    # print(np.argmax(r[0]))\n",
        "    colored_input[i][np.argmax(r[0])][:] = input[i]\n",
        "  \n",
        "  colored_input = colored_input.reshape(colored_input.shape[0], 3*28*28)\n",
        "\n",
        "  return (colored_input, np.array(colors))"
      ],
      "execution_count": 10,
      "outputs": []
    },
    {
      "cell_type": "code",
      "metadata": {
        "id": "zG7DWZKV4EoG"
      },
      "source": [
        "def get_data_loader(data, batch_size, shuffle=True):\n",
        "  x = torch.tensor(data[0], dtype=torch.float32)\n",
        "  y = torch.tensor(data[1], dtype=torch.float32)\n",
        "  z = torch.tensor(data[2], dtype=torch.float32)\n",
        "\n",
        "  if torch.cuda.is_available():\n",
        "    x = x.cuda()\n",
        "    y = y.cuda()\n",
        "    z = z.cuda()\n",
        "\n",
        "  dataset = TensorDataset(x, y, z)\n",
        "  \n",
        "  return DataLoader(dataset, batch_size, shuffle, num_workers=0)"
      ],
      "execution_count": 11,
      "outputs": []
    },
    {
      "cell_type": "code",
      "metadata": {
        "id": "NPzUArpZAWPQ"
      },
      "source": [
        "batch_size = 100\n",
        "weight_decay = 1.0e-6\n",
        "lr = 1.0e-4\n",
        "patience = 30\n",
        "conditioning_criteria = 'color'\n",
        "conditional = True\n",
        "\n",
        "if conditioning_criteria == 'color':\n",
        "  (train_x, train_y) = color_features(train_x)\n",
        "  (val_x, val_y) = color_features(val_x)\n",
        "\n",
        "num_dim = train_x.shape[1]\n",
        "\n",
        "train_loader = get_data_loader((train_x, train_y, train_labels), batch_size)\n",
        "val_loader = get_data_loader((val_x, val_y, val_labels), batch_size)\n",
        "\n",
        "flow = build_cond_flow(num_dim, condition=conditioning_criteria) if conditional else build_flow(num_dim)\n",
        "\n",
        "if torch.cuda.is_available():\n",
        "  flow = flow.to(device)\n",
        "\n",
        "optimizer = optim.Adam(flow.parameters(),\n",
        "                       lr=lr,\n",
        "                       weight_decay=0 if weight_decay is None else weight_decay)"
      ],
      "execution_count": 14,
      "outputs": []
    },
    {
      "cell_type": "code",
      "metadata": {
        "colab": {
          "base_uri": "https://localhost:8080/",
          "height": 360
        },
        "id": "1Ne3lTB65lbV",
        "outputId": "b113de22-b205-4da1-a03f-0d3c49d2e015"
      },
      "source": [
        "model2 = train(flow,\n",
        "              optimizer,\n",
        "              train_loader, \n",
        "              val_loader, \n",
        "              patience=patience,\n",
        "              show_epoch_loss_progress=True,\n",
        "              conditional=True,\n",
        "              conditioning_criteria=conditioning_criteria)"
      ],
      "execution_count": 19,
      "outputs": [
        {
          "output_type": "error",
          "ename": "KeyboardInterrupt",
          "evalue": "ignored",
          "traceback": [
            "\u001b[0;31m---------------------------------------------------------------------------\u001b[0m",
            "\u001b[0;31mKeyboardInterrupt\u001b[0m                         Traceback (most recent call last)",
            "\u001b[0;32m<ipython-input-19-1d228760608e>\u001b[0m in \u001b[0;36m<module>\u001b[0;34m()\u001b[0m\n\u001b[1;32m      6\u001b[0m               \u001b[0mshow_epoch_loss_progress\u001b[0m\u001b[0;34m=\u001b[0m\u001b[0;32mTrue\u001b[0m\u001b[0;34m,\u001b[0m\u001b[0;34m\u001b[0m\u001b[0;34m\u001b[0m\u001b[0m\n\u001b[1;32m      7\u001b[0m               \u001b[0mconditional\u001b[0m\u001b[0;34m=\u001b[0m\u001b[0;32mTrue\u001b[0m\u001b[0;34m,\u001b[0m\u001b[0;34m\u001b[0m\u001b[0;34m\u001b[0m\u001b[0m\n\u001b[0;32m----> 8\u001b[0;31m               conditioning_criteria=conditioning_criteria)\n\u001b[0m",
            "\u001b[0;32m<ipython-input-18-17ccd8aace72>\u001b[0m in \u001b[0;36mtrain\u001b[0;34m(flow, optimizer, train_loader, val_loader, patience, maxepochs, monitor_every_batch, show_epoch_loss_progress, show_flow, conditional, conditioning_criteria)\u001b[0m\n\u001b[1;32m     13\u001b[0m     \u001b[0;32mfor\u001b[0m \u001b[0mx\u001b[0m\u001b[0;34m,\u001b[0m \u001b[0my\u001b[0m\u001b[0;34m,\u001b[0m \u001b[0ml\u001b[0m \u001b[0;32min\u001b[0m \u001b[0mtrain_loader\u001b[0m\u001b[0;34m:\u001b[0m\u001b[0;34m\u001b[0m\u001b[0;34m\u001b[0m\u001b[0m\n\u001b[1;32m     14\u001b[0m       \u001b[0moptimizer\u001b[0m\u001b[0;34m.\u001b[0m\u001b[0mzero_grad\u001b[0m\u001b[0;34m(\u001b[0m\u001b[0;34m)\u001b[0m\u001b[0;34m\u001b[0m\u001b[0;34m\u001b[0m\u001b[0m\n\u001b[0;32m---> 15\u001b[0;31m       \u001b[0mtrain_loss\u001b[0m \u001b[0;34m=\u001b[0m \u001b[0;34m-\u001b[0m\u001b[0mflow\u001b[0m\u001b[0;34m.\u001b[0m\u001b[0mlog_prob\u001b[0m\u001b[0;34m(\u001b[0m\u001b[0minputs\u001b[0m\u001b[0;34m=\u001b[0m\u001b[0mx\u001b[0m\u001b[0;34m,\u001b[0m \u001b[0mcontext\u001b[0m\u001b[0;34m=\u001b[0m\u001b[0my\u001b[0m\u001b[0;34m)\u001b[0m\u001b[0;34m.\u001b[0m\u001b[0mmean\u001b[0m\u001b[0;34m(\u001b[0m\u001b[0;34m)\u001b[0m \u001b[0;32mif\u001b[0m \u001b[0mconditional\u001b[0m \u001b[0;32melse\u001b[0m \u001b[0;34m-\u001b[0m\u001b[0mflow\u001b[0m\u001b[0;34m.\u001b[0m\u001b[0mlog_prob\u001b[0m\u001b[0;34m(\u001b[0m\u001b[0minputs\u001b[0m\u001b[0;34m=\u001b[0m\u001b[0mx\u001b[0m\u001b[0;34m)\u001b[0m\u001b[0;34m.\u001b[0m\u001b[0mmean\u001b[0m\u001b[0;34m(\u001b[0m\u001b[0;34m)\u001b[0m\u001b[0;34m\u001b[0m\u001b[0;34m\u001b[0m\u001b[0m\n\u001b[0m\u001b[1;32m     16\u001b[0m       \u001b[0mtrain_loss\u001b[0m\u001b[0;34m.\u001b[0m\u001b[0mbackward\u001b[0m\u001b[0;34m(\u001b[0m\u001b[0;34m)\u001b[0m\u001b[0;34m\u001b[0m\u001b[0;34m\u001b[0m\u001b[0m\n\u001b[1;32m     17\u001b[0m       \u001b[0moptimizer\u001b[0m\u001b[0;34m.\u001b[0m\u001b[0mstep\u001b[0m\u001b[0;34m(\u001b[0m\u001b[0;34m)\u001b[0m\u001b[0;34m\u001b[0m\u001b[0;34m\u001b[0m\u001b[0m\n",
            "\u001b[0;32m/usr/local/lib/python3.7/dist-packages/nflows/distributions/base.py\u001b[0m in \u001b[0;36mlog_prob\u001b[0;34m(self, inputs, context)\u001b[0m\n\u001b[1;32m     38\u001b[0m                     \u001b[0;34m\"Number of input items must be equal to number of context items.\"\u001b[0m\u001b[0;34m\u001b[0m\u001b[0;34m\u001b[0m\u001b[0m\n\u001b[1;32m     39\u001b[0m                 )\n\u001b[0;32m---> 40\u001b[0;31m         \u001b[0;32mreturn\u001b[0m \u001b[0mself\u001b[0m\u001b[0;34m.\u001b[0m\u001b[0m_log_prob\u001b[0m\u001b[0;34m(\u001b[0m\u001b[0minputs\u001b[0m\u001b[0;34m,\u001b[0m \u001b[0mcontext\u001b[0m\u001b[0;34m)\u001b[0m\u001b[0;34m\u001b[0m\u001b[0;34m\u001b[0m\u001b[0m\n\u001b[0m\u001b[1;32m     41\u001b[0m \u001b[0;34m\u001b[0m\u001b[0m\n\u001b[1;32m     42\u001b[0m     \u001b[0;32mdef\u001b[0m \u001b[0m_log_prob\u001b[0m\u001b[0;34m(\u001b[0m\u001b[0mself\u001b[0m\u001b[0;34m,\u001b[0m \u001b[0minputs\u001b[0m\u001b[0;34m,\u001b[0m \u001b[0mcontext\u001b[0m\u001b[0;34m)\u001b[0m\u001b[0;34m:\u001b[0m\u001b[0;34m\u001b[0m\u001b[0;34m\u001b[0m\u001b[0m\n",
            "\u001b[0;32m/usr/local/lib/python3.7/dist-packages/nflows/flows/base.py\u001b[0m in \u001b[0;36m_log_prob\u001b[0;34m(self, inputs, context)\u001b[0m\n\u001b[1;32m     37\u001b[0m     \u001b[0;32mdef\u001b[0m \u001b[0m_log_prob\u001b[0m\u001b[0;34m(\u001b[0m\u001b[0mself\u001b[0m\u001b[0;34m,\u001b[0m \u001b[0minputs\u001b[0m\u001b[0;34m,\u001b[0m \u001b[0mcontext\u001b[0m\u001b[0;34m)\u001b[0m\u001b[0;34m:\u001b[0m\u001b[0;34m\u001b[0m\u001b[0;34m\u001b[0m\u001b[0m\n\u001b[1;32m     38\u001b[0m         \u001b[0membedded_context\u001b[0m \u001b[0;34m=\u001b[0m \u001b[0mself\u001b[0m\u001b[0;34m.\u001b[0m\u001b[0m_embedding_net\u001b[0m\u001b[0;34m(\u001b[0m\u001b[0mcontext\u001b[0m\u001b[0;34m)\u001b[0m\u001b[0;34m\u001b[0m\u001b[0;34m\u001b[0m\u001b[0m\n\u001b[0;32m---> 39\u001b[0;31m         \u001b[0mnoise\u001b[0m\u001b[0;34m,\u001b[0m \u001b[0mlogabsdet\u001b[0m \u001b[0;34m=\u001b[0m \u001b[0mself\u001b[0m\u001b[0;34m.\u001b[0m\u001b[0m_transform\u001b[0m\u001b[0;34m(\u001b[0m\u001b[0minputs\u001b[0m\u001b[0;34m,\u001b[0m \u001b[0mcontext\u001b[0m\u001b[0;34m=\u001b[0m\u001b[0membedded_context\u001b[0m\u001b[0;34m)\u001b[0m\u001b[0;34m\u001b[0m\u001b[0;34m\u001b[0m\u001b[0m\n\u001b[0m\u001b[1;32m     40\u001b[0m         \u001b[0mlog_prob\u001b[0m \u001b[0;34m=\u001b[0m \u001b[0mself\u001b[0m\u001b[0;34m.\u001b[0m\u001b[0m_distribution\u001b[0m\u001b[0;34m.\u001b[0m\u001b[0mlog_prob\u001b[0m\u001b[0;34m(\u001b[0m\u001b[0mnoise\u001b[0m\u001b[0;34m,\u001b[0m \u001b[0mcontext\u001b[0m\u001b[0;34m=\u001b[0m\u001b[0membedded_context\u001b[0m\u001b[0;34m)\u001b[0m\u001b[0;34m\u001b[0m\u001b[0;34m\u001b[0m\u001b[0m\n\u001b[1;32m     41\u001b[0m         \u001b[0;32mreturn\u001b[0m \u001b[0mlog_prob\u001b[0m \u001b[0;34m+\u001b[0m \u001b[0mlogabsdet\u001b[0m\u001b[0;34m\u001b[0m\u001b[0;34m\u001b[0m\u001b[0m\n",
            "\u001b[0;32m/usr/local/lib/python3.7/dist-packages/torch/nn/modules/module.py\u001b[0m in \u001b[0;36m_call_impl\u001b[0;34m(self, *input, **kwargs)\u001b[0m\n\u001b[1;32m   1100\u001b[0m         if not (self._backward_hooks or self._forward_hooks or self._forward_pre_hooks or _global_backward_hooks\n\u001b[1;32m   1101\u001b[0m                 or _global_forward_hooks or _global_forward_pre_hooks):\n\u001b[0;32m-> 1102\u001b[0;31m             \u001b[0;32mreturn\u001b[0m \u001b[0mforward_call\u001b[0m\u001b[0;34m(\u001b[0m\u001b[0;34m*\u001b[0m\u001b[0minput\u001b[0m\u001b[0;34m,\u001b[0m \u001b[0;34m**\u001b[0m\u001b[0mkwargs\u001b[0m\u001b[0;34m)\u001b[0m\u001b[0;34m\u001b[0m\u001b[0;34m\u001b[0m\u001b[0m\n\u001b[0m\u001b[1;32m   1103\u001b[0m         \u001b[0;31m# Do not call functions when jit is used\u001b[0m\u001b[0;34m\u001b[0m\u001b[0;34m\u001b[0m\u001b[0;34m\u001b[0m\u001b[0m\n\u001b[1;32m   1104\u001b[0m         \u001b[0mfull_backward_hooks\u001b[0m\u001b[0;34m,\u001b[0m \u001b[0mnon_full_backward_hooks\u001b[0m \u001b[0;34m=\u001b[0m \u001b[0;34m[\u001b[0m\u001b[0;34m]\u001b[0m\u001b[0;34m,\u001b[0m \u001b[0;34m[\u001b[0m\u001b[0;34m]\u001b[0m\u001b[0;34m\u001b[0m\u001b[0;34m\u001b[0m\u001b[0m\n",
            "\u001b[0;32m/usr/local/lib/python3.7/dist-packages/nflows/transforms/base.py\u001b[0m in \u001b[0;36mforward\u001b[0;34m(self, inputs, context)\u001b[0m\n\u001b[1;32m     54\u001b[0m     \u001b[0;32mdef\u001b[0m \u001b[0mforward\u001b[0m\u001b[0;34m(\u001b[0m\u001b[0mself\u001b[0m\u001b[0;34m,\u001b[0m \u001b[0minputs\u001b[0m\u001b[0;34m,\u001b[0m \u001b[0mcontext\u001b[0m\u001b[0;34m=\u001b[0m\u001b[0;32mNone\u001b[0m\u001b[0;34m)\u001b[0m\u001b[0;34m:\u001b[0m\u001b[0;34m\u001b[0m\u001b[0;34m\u001b[0m\u001b[0m\n\u001b[1;32m     55\u001b[0m         \u001b[0mfuncs\u001b[0m \u001b[0;34m=\u001b[0m \u001b[0mself\u001b[0m\u001b[0;34m.\u001b[0m\u001b[0m_transforms\u001b[0m\u001b[0;34m\u001b[0m\u001b[0;34m\u001b[0m\u001b[0m\n\u001b[0;32m---> 56\u001b[0;31m         \u001b[0;32mreturn\u001b[0m \u001b[0mself\u001b[0m\u001b[0;34m.\u001b[0m\u001b[0m_cascade\u001b[0m\u001b[0;34m(\u001b[0m\u001b[0minputs\u001b[0m\u001b[0;34m,\u001b[0m \u001b[0mfuncs\u001b[0m\u001b[0;34m,\u001b[0m \u001b[0mcontext\u001b[0m\u001b[0;34m)\u001b[0m\u001b[0;34m\u001b[0m\u001b[0;34m\u001b[0m\u001b[0m\n\u001b[0m\u001b[1;32m     57\u001b[0m \u001b[0;34m\u001b[0m\u001b[0m\n\u001b[1;32m     58\u001b[0m     \u001b[0;32mdef\u001b[0m \u001b[0minverse\u001b[0m\u001b[0;34m(\u001b[0m\u001b[0mself\u001b[0m\u001b[0;34m,\u001b[0m \u001b[0minputs\u001b[0m\u001b[0;34m,\u001b[0m \u001b[0mcontext\u001b[0m\u001b[0;34m=\u001b[0m\u001b[0;32mNone\u001b[0m\u001b[0;34m)\u001b[0m\u001b[0;34m:\u001b[0m\u001b[0;34m\u001b[0m\u001b[0;34m\u001b[0m\u001b[0m\n",
            "\u001b[0;32m/usr/local/lib/python3.7/dist-packages/nflows/transforms/base.py\u001b[0m in \u001b[0;36m_cascade\u001b[0;34m(inputs, funcs, context)\u001b[0m\n\u001b[1;32m     48\u001b[0m         \u001b[0mtotal_logabsdet\u001b[0m \u001b[0;34m=\u001b[0m \u001b[0minputs\u001b[0m\u001b[0;34m.\u001b[0m\u001b[0mnew_zeros\u001b[0m\u001b[0;34m(\u001b[0m\u001b[0mbatch_size\u001b[0m\u001b[0;34m)\u001b[0m\u001b[0;34m\u001b[0m\u001b[0;34m\u001b[0m\u001b[0m\n\u001b[1;32m     49\u001b[0m         \u001b[0;32mfor\u001b[0m \u001b[0mfunc\u001b[0m \u001b[0;32min\u001b[0m \u001b[0mfuncs\u001b[0m\u001b[0;34m:\u001b[0m\u001b[0;34m\u001b[0m\u001b[0;34m\u001b[0m\u001b[0m\n\u001b[0;32m---> 50\u001b[0;31m             \u001b[0moutputs\u001b[0m\u001b[0;34m,\u001b[0m \u001b[0mlogabsdet\u001b[0m \u001b[0;34m=\u001b[0m \u001b[0mfunc\u001b[0m\u001b[0;34m(\u001b[0m\u001b[0moutputs\u001b[0m\u001b[0;34m,\u001b[0m \u001b[0mcontext\u001b[0m\u001b[0;34m)\u001b[0m\u001b[0;34m\u001b[0m\u001b[0;34m\u001b[0m\u001b[0m\n\u001b[0m\u001b[1;32m     51\u001b[0m             \u001b[0mtotal_logabsdet\u001b[0m \u001b[0;34m+=\u001b[0m \u001b[0mlogabsdet\u001b[0m\u001b[0;34m\u001b[0m\u001b[0;34m\u001b[0m\u001b[0m\n\u001b[1;32m     52\u001b[0m         \u001b[0;32mreturn\u001b[0m \u001b[0moutputs\u001b[0m\u001b[0;34m,\u001b[0m \u001b[0mtotal_logabsdet\u001b[0m\u001b[0;34m\u001b[0m\u001b[0;34m\u001b[0m\u001b[0m\n",
            "\u001b[0;31mKeyboardInterrupt\u001b[0m: "
          ]
        }
      ]
    },
    {
      "cell_type": "code",
      "metadata": {
        "colab": {
          "base_uri": "https://localhost:8080/",
          "height": 1000
        },
        "id": "m_WhSx9yYZjf",
        "outputId": "27f7f06f-c2fb-4760-9560-47b4b16edce1"
      },
      "source": [
        "model = train(flow,\n",
        "              optimizer,\n",
        "              train_loader, \n",
        "              val_loader, \n",
        "              patience=patience,\n",
        "              show_epoch_loss_progress=True,\n",
        "              conditional=True,\n",
        "              conditioning_criteria=conditioning_criteria)"
      ],
      "execution_count": null,
      "outputs": [
        {
          "output_type": "stream",
          "name": "stdout",
          "text": [
            "Epoch: 1, Train loss: -510.69421, Validation loss: -659.76709\n",
            "Epoch: 2, Train loss: -5719.18359, Validation loss: -5542.20312\n",
            "Epoch: 3, Train loss: -7244.37598, Validation loss: -7200.87744\n",
            "Epoch: 4, Train loss: -7924.37598, Validation loss: -7992.81592\n",
            "Epoch: 5, Train loss: -8498.37012, Validation loss: -8471.60352\n",
            "Epoch: 6, Train loss: -9158.98828, Validation loss: -9151.60352\n",
            "Epoch: 7, Train loss: 5367.64062, Validation loss: 5078.18311\n",
            "Epoch: 8, Train loss: 556.32410, Validation loss: 586.21515\n",
            "Epoch: 9, Train loss: -1455.16467, Validation loss: -1166.80798\n",
            "Epoch: 10, Train loss: -3432.85815, Validation loss: -3074.36646\n",
            "Epoch: 11, Train loss: -4592.09668, Validation loss: -4449.52979\n",
            "Epoch: 12, Train loss: -5477.95557, Validation loss: -5590.49512\n",
            "Epoch: 13, Train loss: -5741.99756, Validation loss: -6071.13916\n",
            "Epoch: 14, Train loss: -7071.41797, Validation loss: -6788.11230\n",
            "Epoch: 15, Train loss: -7413.80371, Validation loss: -7319.66992\n",
            "Epoch: 16, Train loss: -7588.39990, Validation loss: -7949.20459\n",
            "Epoch: 17, Train loss: -7969.66846, Validation loss: -8318.78809\n",
            "Epoch: 18, Train loss: -8413.66406, Validation loss: -8430.26367\n",
            "Epoch: 19, Train loss: -8638.14648, Validation loss: -9054.21484\n",
            "Epoch: 20, Train loss: -9161.12109, Validation loss: -9084.08887\n",
            "Epoch: 21, Train loss: -8766.35059, Validation loss: -8900.54492\n",
            "Epoch: 22, Train loss: -8811.43262, Validation loss: -9494.21582\n",
            "Epoch: 23, Train loss: -9943.08203, Validation loss: -9312.96777\n",
            "Epoch: 24, Train loss: -9575.73828, Validation loss: -9837.14941\n",
            "Epoch: 25, Train loss: -10380.08887, Validation loss: -10201.38477\n",
            "Epoch: 26, Train loss: -9786.61523, Validation loss: -10013.80176\n",
            "Epoch: 27, Train loss: -9918.85059, Validation loss: -9141.55273\n",
            "Epoch: 28, Train loss: -9749.65625, Validation loss: -10075.34375\n",
            "Epoch: 29, Train loss: -10454.60645, Validation loss: -10084.33398\n",
            "Epoch: 30, Train loss: -9843.49707, Validation loss: -10448.67480\n",
            "Epoch: 31, Train loss: -10312.95117, Validation loss: -7835.85547\n",
            "Epoch: 32, Train loss: -10357.19141, Validation loss: -11158.79980\n",
            "Epoch: 33, Train loss: -10846.96680, Validation loss: -10777.98730\n",
            "Epoch: 34, Train loss: -11027.98633, Validation loss: -10962.71191\n",
            "Epoch: 35, Train loss: -11230.51465, Validation loss: -10894.95508\n",
            "Epoch: 36, Train loss: -11110.67188, Validation loss: -11059.00000\n",
            "Epoch: 37, Train loss: -11230.33691, Validation loss: -11278.14355\n",
            "Epoch: 38, Train loss: -11166.52734, Validation loss: -11223.89062\n",
            "Epoch: 39, Train loss: -10795.00977, Validation loss: -11019.50586\n",
            "Epoch: 40, Train loss: -11440.27734, Validation loss: -11296.55273\n",
            "Epoch: 41, Train loss: -9839.76660, Validation loss: -11234.79199\n",
            "Epoch: 42, Train loss: -10929.94336, Validation loss: -9835.37695\n",
            "Epoch: 43, Train loss: -11497.41602, Validation loss: -11251.28809\n",
            "Epoch: 44, Train loss: -11657.68750, Validation loss: -11567.67188\n",
            "Epoch: 45, Train loss: -11530.53809, Validation loss: -11681.17578\n",
            "Epoch: 46, Train loss: -11309.85352, Validation loss: -11546.70117\n",
            "Epoch: 47, Train loss: -11020.51270, Validation loss: -10143.95508\n",
            "Epoch: 48, Train loss: -10336.50977, Validation loss: -11590.83008\n",
            "Epoch: 49, Train loss: -11821.22461, Validation loss: -12037.10840\n",
            "Epoch: 50, Train loss: -11800.00000, Validation loss: -12256.46484\n",
            "Epoch: 51, Train loss: -11901.55469, Validation loss: -12079.38965\n",
            "Epoch: 52, Train loss: -12408.87207, Validation loss: -12056.17480\n",
            "Epoch: 53, Train loss: -10953.03125, Validation loss: -11213.45996\n",
            "Epoch: 54, Train loss: -11798.45117, Validation loss: -12021.47949\n",
            "Epoch: 55, Train loss: -11978.13867, Validation loss: -11769.87695\n",
            "Epoch: 56, Train loss: -12314.29199, Validation loss: -12201.33203\n",
            "Epoch: 57, Train loss: -12340.20508, Validation loss: -11929.91699\n",
            "Epoch: 58, Train loss: -12079.99512, Validation loss: -12373.25684\n",
            "Epoch: 59, Train loss: -12385.33594, Validation loss: -12339.08203\n",
            "Epoch: 60, Train loss: -12577.87695, Validation loss: -12398.35938\n",
            "Epoch: 61, Train loss: -11204.43750, Validation loss: -11646.71875\n",
            "Epoch: 62, Train loss: -12362.47266, Validation loss: -12229.47559\n",
            "Epoch: 63, Train loss: -11511.78711, Validation loss: -12182.84863\n",
            "Epoch: 64, Train loss: -12265.35742, Validation loss: -12408.41309\n",
            "Epoch: 65, Train loss: -12582.02246, Validation loss: -12674.89746\n",
            "Epoch: 66, Train loss: -12197.18750, Validation loss: -12511.07227\n",
            "Epoch: 67, Train loss: -9621.42773, Validation loss: -11394.88477\n",
            "Epoch: 68, Train loss: -12641.42383, Validation loss: -12507.00000\n",
            "Epoch: 69, Train loss: -12221.18066, Validation loss: -12215.45215\n",
            "Epoch: 70, Train loss: -12692.67871, Validation loss: -12542.21094\n",
            "Epoch: 71, Train loss: -12219.39258, Validation loss: -12348.35938\n",
            "Epoch: 72, Train loss: -8789.90820, Validation loss: -9296.99512\n",
            "Epoch: 73, Train loss: -9387.22754, Validation loss: -6172.28467\n",
            "Epoch: 74, Train loss: -11555.76953, Validation loss: -11504.27930\n",
            "Epoch: 75, Train loss: -12702.02051, Validation loss: -12737.86816\n",
            "Epoch: 76, Train loss: -12644.05469, Validation loss: -12703.02930\n",
            "Epoch: 77, Train loss: -12616.81250, Validation loss: -12679.76465\n",
            "Epoch: 78, Train loss: -12854.55566, Validation loss: -12589.33496\n",
            "Epoch: 79, Train loss: -12880.30176, Validation loss: -12810.98145\n",
            "Epoch: 80, Train loss: -12555.01074, Validation loss: -12809.47949\n",
            "Epoch: 81, Train loss: -12763.33105, Validation loss: -12557.92188\n",
            "Epoch: 82, Train loss: -12840.45215, Validation loss: -12874.10449\n",
            "Epoch: 83, Train loss: -12451.41113, Validation loss: -12196.29004\n",
            "Epoch: 84, Train loss: -12740.38965, Validation loss: -12775.53125\n",
            "Epoch: 85, Train loss: -12220.88574, Validation loss: -12352.80469\n",
            "Epoch: 86, Train loss: -12992.50684, Validation loss: -13143.08496\n",
            "Epoch: 87, Train loss: -12697.53711, Validation loss: -12757.91895\n",
            "Epoch: 88, Train loss: -12903.53223, Validation loss: -12937.51465\n",
            "Epoch: 89, Train loss: -13086.33008, Validation loss: -13000.22461\n",
            "Epoch: 90, Train loss: -13112.79688, Validation loss: -13117.21484\n",
            "Epoch: 91, Train loss: -12599.31055, Validation loss: -12793.07520\n",
            "Epoch: 92, Train loss: -13056.25488, Validation loss: -12849.68359\n",
            "Epoch: 93, Train loss: -7009.59619, Validation loss: -7255.48242\n",
            "Epoch: 94, Train loss: -12790.38770, Validation loss: -12824.77832\n",
            "Epoch: 95, Train loss: -13005.51465, Validation loss: -13188.03516\n",
            "Epoch: 96, Train loss: -13040.87012, Validation loss: -12958.62988\n",
            "Epoch: 97, Train loss: -13109.66602, Validation loss: -13117.29492\n",
            "Epoch: 98, Train loss: -13083.55957, Validation loss: -13035.79492\n",
            "Epoch: 99, Train loss: -13293.46387, Validation loss: -13184.36230\n",
            "Epoch: 100, Train loss: -12707.55762, Validation loss: -12735.41504\n",
            "Epoch: 101, Train loss: -12993.32812, Validation loss: -12963.12207\n",
            "Epoch: 102, Train loss: -13200.10059, Validation loss: -13125.60938\n",
            "Epoch: 103, Train loss: -10319.44727, Validation loss: -10206.74121\n",
            "Epoch: 104, Train loss: -13235.85352, Validation loss: -13072.51562\n",
            "Epoch: 105, Train loss: -13209.14941, Validation loss: -13144.42480\n",
            "Epoch: 106, Train loss: -12417.12891, Validation loss: -12647.47266\n",
            "Epoch: 107, Train loss: -12574.27441, Validation loss: -12085.16504\n",
            "Epoch: 108, Train loss: -12746.96582, Validation loss: -12780.70508\n",
            "Epoch: 109, Train loss: -12936.94141, Validation loss: -13049.06738\n",
            "Epoch: 110, Train loss: -11961.74512, Validation loss: -11832.83203\n",
            "Epoch: 111, Train loss: -13352.23242, Validation loss: -13300.09473\n",
            "Epoch: 112, Train loss: -11702.50195, Validation loss: -12297.23828\n",
            "Epoch: 113, Train loss: -13124.80469, Validation loss: -13170.88086\n",
            "Epoch: 114, Train loss: -13135.58691, Validation loss: -13119.14941\n",
            "Epoch: 115, Train loss: -12902.29199, Validation loss: -12822.65723\n",
            "Epoch: 116, Train loss: -13303.67871, Validation loss: -13367.67676\n",
            "Epoch: 117, Train loss: -12389.18555, Validation loss: -12729.53516\n",
            "Epoch: 118, Train loss: -13239.17480, Validation loss: -13121.88574\n",
            "Epoch: 119, Train loss: -13357.58984, Validation loss: -13416.18750\n",
            "Epoch: 120, Train loss: -13476.88965, Validation loss: -13421.16699\n",
            "Epoch: 121, Train loss: -11023.21191, Validation loss: -11110.48730\n",
            "Epoch: 122, Train loss: -13016.33984, Validation loss: -13010.41602\n",
            "Epoch: 123, Train loss: -13108.32227, Validation loss: -12810.16992\n",
            "Epoch: 124, Train loss: -13387.25684, Validation loss: -13416.20508\n",
            "Epoch: 125, Train loss: -13045.37988, Validation loss: -13228.62891\n",
            "Epoch: 126, Train loss: -13298.42676, Validation loss: -13270.26367\n",
            "Epoch: 127, Train loss: -13324.40137, Validation loss: -13348.47949\n",
            "Epoch: 128, Train loss: -13247.61426, Validation loss: -13099.51465\n",
            "Epoch: 129, Train loss: -13552.73730, Validation loss: -13586.26172\n",
            "Epoch: 130, Train loss: -13398.00684, Validation loss: -13380.88965\n",
            "Epoch: 131, Train loss: -13672.01562, Validation loss: -13591.59180\n",
            "Epoch: 132, Train loss: -13615.50586, Validation loss: -13608.42480\n",
            "Epoch: 133, Train loss: -13591.18750, Validation loss: -13543.90723\n",
            "Epoch: 134, Train loss: -13711.50879, Validation loss: -13704.19922\n",
            "Epoch: 135, Train loss: -12524.19727, Validation loss: -12889.62012\n",
            "Epoch: 136, Train loss: -13680.37500, Validation loss: -13646.98242\n",
            "Epoch: 137, Train loss: -13341.93945, Validation loss: -12805.92188\n",
            "Epoch: 138, Train loss: -13506.87012, Validation loss: -13534.68359\n",
            "Epoch: 139, Train loss: -13176.52441, Validation loss: -13152.10742\n",
            "Epoch: 140, Train loss: 32926.30469, Validation loss: 32203.51758\n",
            "Epoch: 141, Train loss: 849.20465, Validation loss: 1321.41296\n",
            "Epoch: 142, Train loss: -1908.47119, Validation loss: -1302.07141\n",
            "Epoch: 143, Train loss: -3231.19360, Validation loss: -2630.76880\n",
            "Epoch: 144, Train loss: -4592.06006, Validation loss: -4233.35693\n",
            "Epoch: 145, Train loss: -5594.61279, Validation loss: -5862.96924\n",
            "Epoch: 146, Train loss: -5800.61572, Validation loss: -6539.45215\n",
            "Epoch: 147, Train loss: -7291.84619, Validation loss: -7072.69629\n",
            "Epoch: 148, Train loss: -8037.32471, Validation loss: -8017.60693\n",
            "Epoch: 149, Train loss: -8781.92969, Validation loss: -8696.09375\n",
            "Epoch: 150, Train loss: -9087.87207, Validation loss: -9991.23340\n",
            "Epoch: 151, Train loss: -10186.02441, Validation loss: -9838.67969\n",
            "Epoch: 152, Train loss: -10131.70898, Validation loss: -10599.41602\n",
            "Epoch: 153, Train loss: -10874.58008, Validation loss: -11064.21582\n",
            "Epoch: 154, Train loss: -11489.13770, Validation loss: -11329.63379\n",
            "Epoch: 155, Train loss: -11209.38184, Validation loss: -11737.54102\n",
            "Epoch: 156, Train loss: -11632.75879, Validation loss: -11656.33203\n",
            "Epoch: 157, Train loss: -11082.60254, Validation loss: -10636.68750\n",
            "Epoch: 158, Train loss: -12428.53320, Validation loss: -12371.86133\n",
            "Epoch: 159, Train loss: -12023.12305, Validation loss: -11847.48340\n",
            "Epoch: 160, Train loss: -13063.29980, Validation loss: -12503.30078\n",
            "Epoch: 161, Train loss: -12642.68945, Validation loss: -13126.29688\n",
            "Epoch: 162, Train loss: -12769.35742, Validation loss: -12766.88086\n",
            "Epoch: 163, Train loss: -12129.89746, Validation loss: -12625.07520\n",
            "Epoch: 164, Train loss: -13055.67969, Validation loss: -13120.54199\n",
            "Stopped training after 164 epochs\n"
          ]
        },
        {
          "output_type": "display_data",
          "data": {
            "image/png": "[encoded data removed]",
            "text/plain": [
              "<Figure size 432x288 with 1 Axes>"
            ]
          },
          "metadata": {
            "needs_background": "light"
          }
        }
      ]
    },
    {
      "cell_type": "code",
      "metadata": {
        "colab": {
          "base_uri": "https://localhost:8080/"
        },
        "id": "wFJpjXPCzFaa",
        "outputId": "b92c3134-eed7-4823-e9e8-60eb97332223"
      },
      "source": [
        "from google.colab import drive\n",
        "drive.mount('/content/drive')"
      ],
      "execution_count": 12,
      "outputs": [
        {
          "output_type": "stream",
          "name": "stdout",
          "text": [
            "Mounted at /content/drive\n"
          ]
        }
      ]
    },
    {
      "cell_type": "code",
      "metadata": {
        "id": "hFdAVq_9zG-a"
      },
      "source": [
        "torch.save(model, \"/content/drive/MyDrive/Colab Notebooks/MAF-MNIST-2-11-2021-best.pth\")"
      ],
      "execution_count": null,
      "outputs": []
    },
    {
      "cell_type": "code",
      "metadata": {
        "id": "TMg5Jo_mlaxZ"
      },
      "source": [
        "model = torch.load('/content/drive/MyDrive/Colab Notebooks/MAF-MNIST-color-23-11-2021-best.pth', map_location=device)"
      ],
      "execution_count": 15,
      "outputs": []
    },
    {
      "cell_type": "code",
      "metadata": {
        "id": "mek44nlzqeB1"
      },
      "source": [
        "def inv_logit(x):\n",
        "  alpha = 1.0e-6\n",
        "  return (1.0 / (1.0 + np.exp(-x)) - alpha) / (1 - 2*alpha) "
      ],
      "execution_count": 13,
      "outputs": []
    },
    {
      "cell_type": "code",
      "metadata": {
        "colab": {
          "base_uri": "https://localhost:8080/",
          "height": 284
        },
        "id": "kNLIgHHktORF",
        "outputId": "95e29b01-697b-4cdd-a72a-d5b77614c118"
      },
      "source": [
        "plt.imshow(np.transpose(tt_train_x[2].cpu().detach().numpy().reshape(3,28,28), (1,2,0)))\n",
        "plt.show()"
      ],
      "execution_count": 45,
      "outputs": [
        {
          "output_type": "stream",
          "name": "stderr",
          "text": [
            "Clipping input data to the valid range for imshow with RGB data ([0..1] for floats or [0..255] for integers).\n"
          ]
        },
        {
          "output_type": "display_data",
          "data": {
            "image/png": "[encoded data removed]",
            "text/plain": [
              "<Figure size 432x288 with 1 Axes>"
            ]
          },
          "metadata": {
            "needs_background": "light"
          }
        }
      ]
    },
    {
      "cell_type": "code",
      "metadata": {
        "colab": {
          "base_uri": "https://localhost:8080/"
        },
        "id": "NPvBgnb2yt0E",
        "outputId": "9e68fe12-834d-4005-ecae-fa3ebb06ab07"
      },
      "source": [
        "inv_logit(train_x[6]).max()"
      ],
      "execution_count": 39,
      "outputs": [
        {
          "output_type": "execute_result",
          "data": {
            "text/plain": [
              "0.9999400565530893"
            ]
          },
          "metadata": {},
          "execution_count": 39
        }
      ]
    },
    {
      "cell_type": "code",
      "metadata": {
        "colab": {
          "base_uri": "https://localhost:8080/"
        },
        "id": "IOez8yq9uZuh",
        "outputId": "0f2bb5e8-bcc6-4af6-95af-d56ca9220b61"
      },
      "source": [
        "inv_logit(tt_train_x[0].cpu()).max()"
      ],
      "execution_count": null,
      "outputs": [
        {
          "output_type": "execute_result",
          "data": {
            "text/plain": [
              "tensor(0.9986)"
            ]
          },
          "metadata": {},
          "execution_count": 32
        }
      ]
    },
    {
      "cell_type": "code",
      "metadata": {
        "id": "tn0P8DGdo7PB",
        "colab": {
          "base_uri": "https://localhost:8080/",
          "height": 284
        },
        "outputId": "4db010ac-bcb1-4b34-c2a3-71f8c5a4c776"
      },
      "source": [
        "a = torch.tensor([0, 0, 1], dtype=torch.float32).cuda()\n",
        "\n",
        "\n",
        "with torch.no_grad():\n",
        "  z = model.sample(1, context=a.reshape(-1, 3))\n",
        "  z_cpu = z[0].cpu()\n",
        "  plt.imshow(np.transpose(z_cpu.detach().numpy().reshape(3,28,28), (1,2,0)))\n",
        "  plt.show()"
      ],
      "execution_count": 46,
      "outputs": [
        {
          "output_type": "stream",
          "name": "stderr",
          "text": [
            "Clipping input data to the valid range for imshow with RGB data ([0..1] for floats or [0..255] for integers).\n"
          ]
        },
        {
          "output_type": "display_data",
          "data": {
            "image/png": "[encoded data removed]",
            "text/plain": [
              "<Figure size 432x288 with 1 Axes>"
            ]
          },
          "metadata": {
            "needs_background": "light"
          }
        }
      ]
    },
    {
      "cell_type": "code",
      "metadata": {
        "colab": {
          "base_uri": "https://localhost:8080/"
        },
        "id": "qgMXHdFSvEEF",
        "outputId": "7a2666f3-f15b-41a9-eaf7-af65f31e781d"
      },
      "source": [
        "tt_train_y[0]"
      ],
      "execution_count": null,
      "outputs": [
        {
          "output_type": "execute_result",
          "data": {
            "text/plain": [
              "tensor([1., 0., 0.], device='cuda:0')"
            ]
          },
          "metadata": {},
          "execution_count": 34
        }
      ]
    },
    {
      "cell_type": "code",
      "metadata": {
        "colab": {
          "base_uri": "https://localhost:8080/"
        },
        "id": "i1SKixQ4GMn3",
        "outputId": "4c1fb7ab-0b48-4a71-bc8b-946d0ce89fbe"
      },
      "source": [
        "tt_train_y[0].shape"
      ],
      "execution_count": null,
      "outputs": [
        {
          "output_type": "execute_result",
          "data": {
            "text/plain": [
              "torch.Size([3])"
            ]
          },
          "metadata": {},
          "execution_count": 42
        }
      ]
    },
    {
      "cell_type": "code",
      "metadata": {
        "colab": {
          "base_uri": "https://localhost:8080/",
          "height": 265
        },
        "id": "oK-gc-13yZdX",
        "outputId": "b0a76681-997b-4327-e17d-830f0aeeeccd"
      },
      "source": [
        "plt.imshow(inv_logit(z_cpu).detach().numpy().reshape(28,28), cmap='gray')\n",
        "plt.show()"
      ],
      "execution_count": null,
      "outputs": [
        {
          "output_type": "display_data",
          "data": {
            "image/png": "[encoded data removed]",
            "text/plain": [
              "<Figure size 432x288 with 1 Axes>"
            ]
          },
          "metadata": {
            "needs_background": "light"
          }
        }
      ]
    },
    {
      "cell_type": "code",
      "metadata": {
        "colab": {
          "base_uri": "https://localhost:8080/"
        },
        "id": "FRKc6yMDykY7",
        "outputId": "f85a4463-2ca2-4eb2-df90-c4abea90f3ea"
      },
      "source": [
        "print(np.argmax(tt_train_y[0]))"
      ],
      "execution_count": null,
      "outputs": [
        {
          "output_type": "stream",
          "name": "stdout",
          "text": [
            "tensor(5)\n"
          ]
        }
      ]
    },
    {
      "cell_type": "markdown",
      "metadata": {
        "id": "A8qydxov5a4N"
      },
      "source": [
        "Test data"
      ]
    },
    {
      "cell_type": "code",
      "metadata": {
        "id": "w9axp0Qm2hyz"
      },
      "source": [
        "tt_test_x = torch.tensor(test_x, dtype=torch.float32)\n",
        "tt_test_y = torch.tensor(test_y, dtype=torch.float32)\n",
        "tt_test_labels = torch.tensor(test_labels, dtype=torch.float32)\n",
        "\n",
        "if torch.cuda.is_available():\n",
        "  tt_test_x = tt_test_x.to(device)\n",
        "  tt_test_y = tt_test_y.to(device)\n",
        "  tt_test_labels = tt_test_labels.to(device)"
      ],
      "execution_count": null,
      "outputs": []
    },
    {
      "cell_type": "code",
      "metadata": {
        "id": "gFlQLGgG1b9O"
      },
      "source": [
        ""
      ],
      "execution_count": null,
      "outputs": []
    },
    {
      "cell_type": "markdown",
      "metadata": {
        "id": "KLYiVm4o3b8Q"
      },
      "source": [
        "\n",
        "\n",
        "# Conditioned Moons\n"
      ]
    },
    {
      "cell_type": "code",
      "metadata": {
        "id": "LA9UnRTb3hfY"
      },
      "source": [
        "import sklearn.datasets as datasets"
      ],
      "execution_count": null,
      "outputs": []
    },
    {
      "cell_type": "code",
      "metadata": {
        "colab": {
          "base_uri": "https://localhost:8080/",
          "height": 265
        },
        "id": "E_V8P0wq3nTT",
        "outputId": "caffc3d3-f593-4623-d1e3-4368c5027db7"
      },
      "source": [
        "x, y = datasets.make_moons(128, noise=.1)\n",
        "plt.scatter(x[:, 0], x[:, 1], c=y);"
      ],
      "execution_count": null,
      "outputs": [
        {
          "output_type": "display_data",
          "data": {
            "image/png": "[encoded data removed]",
            "text/plain": [
              "<Figure size 432x288 with 1 Axes>"
            ]
          },
          "metadata": {
            "needs_background": "light"
          }
        }
      ]
    },
    {
      "cell_type": "code",
      "metadata": {
        "id": "0Gxv6UH43ojz"
      },
      "source": [
        "num_layers = 5\n",
        "base_dist = ConditionalDiagonalNormal(shape=[2], \n",
        "                                      context_encoder=nn.Linear(1, 4))\n",
        "\n",
        "transforms = []\n",
        "for _ in range(num_layers):\n",
        "    transforms.append(ReversePermutation(features=2))\n",
        "    transforms.append(MaskedAffineAutoregressiveTransform(features=2, \n",
        "                                                          hidden_features=4, \n",
        "                                                          context_features=1))\n",
        "transform = CompositeTransform(transforms)\n",
        "\n",
        "flow = Flow(transform, base_dist)\n",
        "optimizer = optim.Adam(flow.parameters())"
      ],
      "execution_count": null,
      "outputs": []
    },
    {
      "cell_type": "code",
      "metadata": {
        "id": "ZJbzUPKR3q48"
      },
      "source": [
        "num_iter = 5000\n",
        "for i in range(num_iter):\n",
        "    x, y = datasets.make_moons(128, noise=.1)\n",
        "    x = torch.tensor(x, dtype=torch.float32)\n",
        "    print(\"x:{}\".format(x.shape))\n",
        "    y = torch.tensor(y, dtype=torch.float32).reshape(-1, 1)\n",
        "    print(\"y:{}\".format(y.shape))\n",
        "    optimizer.zero_grad()\n",
        "    loss = -flow.log_prob(inputs=x, context=y).mean()\n",
        "    loss.backward()\n",
        "    optimizer.step()\n",
        "    \n",
        "    if (i + 1) % 500 == 0:\n",
        "        fig, ax = plt.subplots(1, 2)\n",
        "        xline = torch.linspace(-1.5, 2.5)\n",
        "        yline = torch.linspace(-.75, 1.25)\n",
        "        xgrid, ygrid = torch.meshgrid(xline, yline)\n",
        "        xyinput = torch.cat([xgrid.reshape(-1, 1), ygrid.reshape(-1, 1)], dim=1)\n",
        "\n",
        "        with torch.no_grad():\n",
        "            zgrid0 = flow.log_prob(xyinput, torch.zeros(10000, 1)).exp().reshape(100, 100)\n",
        "            zgrid1 = flow.log_prob(xyinput, torch.ones(10000, 1)).exp().reshape(100, 100)\n",
        "\n",
        "        ax[0].contourf(xgrid.numpy(), ygrid.numpy(), zgrid0.numpy())\n",
        "        ax[1].contourf(xgrid.numpy(), ygrid.numpy(), zgrid1.numpy())\n",
        "        plt.title('iteration {}'.format(i + 1))\n",
        "        plt.show()"
      ],
      "execution_count": null,
      "outputs": []
    },
    {
      "cell_type": "code",
      "metadata": {
        "colab": {
          "base_uri": "https://localhost:8080/"
        },
        "id": "96CfdIvp4KIp",
        "outputId": "e074a3c7-73ad-437e-b00e-68439d798e49"
      },
      "source": [
        "x, y = datasets.make_moons(128, noise=.1)\n",
        "train_y[0].reshape(-1, 1).shape\n",
        "print(train_x.shape)\n",
        "print(train_y.shape)"
      ],
      "execution_count": null,
      "outputs": [
        {
          "output_type": "stream",
          "name": "stdout",
          "text": [
            "(50000, 784)\n",
            "(50000, 10)\n"
          ]
        }
      ]
    },
    {
      "cell_type": "code",
      "metadata": {
        "id": "Crwlbqo-35Ge"
      },
      "source": [
        ""
      ],
      "execution_count": null,
      "outputs": []
    }
  ]
}