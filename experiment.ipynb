{
  "nbformat": 4,
  "nbformat_minor": 0,
  "metadata": {
    "colab": {
      "name": "MAF-MNIST.ipynb",
      "provenance": [],
      "collapsed_sections": []
    },
    "kernelspec": {
      "display_name": "Python 3",
      "name": "python3"
    },
    "language_info": {
      "name": "python"
    },
    "accelerator": "GPU"
  },
  "cells": [
    {
      "cell_type": "markdown",
      "metadata": {
        "id": "amiBlH_Mi5y2"
      },
      "source": [
        "Imports\n"
      ]
    },
    {
      "cell_type": "code",
      "metadata": {
        "colab": {
          "base_uri": "https://localhost:8080/"
        },
        "id": "9SRJi9sfimRc",
        "outputId": "654d7664-6092-437b-8473-6b7091e699d3"
      },
      "source": [
        "import matplotlib.pyplot as plt\n",
        "import sklearn.datasets as datasets\n",
        "import numpy as np\n",
        "\n",
        "import random\n",
        "\n",
        "import torch\n",
        "from torch import nn\n",
        "from torch import optim\n",
        "from torch.utils.data import TensorDataset, DataLoader\n",
        "\n",
        "! pip install nflows\n",
        "from nflows.flows.base import Flow\n",
        "from nflows.distributions.normal import StandardNormal\n",
        "from nflows.transforms.base import CompositeTransform\n",
        "from nflows.transforms.autoregressive import MaskedAffineAutoregressiveTransform\n",
        "from nflows.transforms.permutations import ReversePermutation"
      ],
      "execution_count": null,
      "outputs": [
        {
          "output_type": "stream",
          "name": "stdout",
          "text": [
            "Collecting nflows\n",
            "  Downloading nflows-0.14.tar.gz (45 kB)\n",
            "\u001b[?25l\r\u001b[K     |███████▏                        | 10 kB 22.9 MB/s eta 0:00:01\r\u001b[K     |██████████████▎                 | 20 kB 10.9 MB/s eta 0:00:01\r\u001b[K     |█████████████████████▌          | 30 kB 6.9 MB/s eta 0:00:01\r\u001b[K     |████████████████████████████▋   | 40 kB 8.2 MB/s eta 0:00:01\r\u001b[K     |████████████████████████████████| 45 kB 1.5 MB/s \n",
            "\u001b[?25hRequirement already satisfied: matplotlib in /usr/local/lib/python3.7/dist-packages (from nflows) (3.2.2)\n",
            "Requirement already satisfied: numpy in /usr/local/lib/python3.7/dist-packages (from nflows) (1.19.5)\n",
            "Requirement already satisfied: tensorboard in /usr/local/lib/python3.7/dist-packages (from nflows) (2.7.0)\n",
            "Requirement already satisfied: torch in /usr/local/lib/python3.7/dist-packages (from nflows) (1.10.0+cu111)\n",
            "Requirement already satisfied: tqdm in /usr/local/lib/python3.7/dist-packages (from nflows) (4.62.3)\n",
            "Requirement already satisfied: cycler>=0.10 in /usr/local/lib/python3.7/dist-packages (from matplotlib->nflows) (0.11.0)\n",
            "Requirement already satisfied: python-dateutil>=2.1 in /usr/local/lib/python3.7/dist-packages (from matplotlib->nflows) (2.8.2)\n",
            "Requirement already satisfied: pyparsing!=2.0.4,!=2.1.2,!=2.1.6,>=2.0.1 in /usr/local/lib/python3.7/dist-packages (from matplotlib->nflows) (2.4.7)\n",
            "Requirement already satisfied: kiwisolver>=1.0.1 in /usr/local/lib/python3.7/dist-packages (from matplotlib->nflows) (1.3.2)\n",
            "Requirement already satisfied: six>=1.5 in /usr/local/lib/python3.7/dist-packages (from python-dateutil>=2.1->matplotlib->nflows) (1.15.0)\n",
            "Requirement already satisfied: protobuf>=3.6.0 in /usr/local/lib/python3.7/dist-packages (from tensorboard->nflows) (3.17.3)\n",
            "Requirement already satisfied: setuptools>=41.0.0 in /usr/local/lib/python3.7/dist-packages (from tensorboard->nflows) (57.4.0)\n",
            "Requirement already satisfied: tensorboard-plugin-wit>=1.6.0 in /usr/local/lib/python3.7/dist-packages (from tensorboard->nflows) (1.8.0)\n",
            "Requirement already satisfied: google-auth-oauthlib<0.5,>=0.4.1 in /usr/local/lib/python3.7/dist-packages (from tensorboard->nflows) (0.4.6)\n",
            "Requirement already satisfied: grpcio>=1.24.3 in /usr/local/lib/python3.7/dist-packages (from tensorboard->nflows) (1.41.1)\n",
            "Requirement already satisfied: tensorboard-data-server<0.7.0,>=0.6.0 in /usr/local/lib/python3.7/dist-packages (from tensorboard->nflows) (0.6.1)\n",
            "Requirement already satisfied: requests<3,>=2.21.0 in /usr/local/lib/python3.7/dist-packages (from tensorboard->nflows) (2.23.0)\n",
            "Requirement already satisfied: absl-py>=0.4 in /usr/local/lib/python3.7/dist-packages (from tensorboard->nflows) (0.12.0)\n",
            "Requirement already satisfied: markdown>=2.6.8 in /usr/local/lib/python3.7/dist-packages (from tensorboard->nflows) (3.3.4)\n",
            "Requirement already satisfied: google-auth<3,>=1.6.3 in /usr/local/lib/python3.7/dist-packages (from tensorboard->nflows) (1.35.0)\n",
            "Requirement already satisfied: werkzeug>=0.11.15 in /usr/local/lib/python3.7/dist-packages (from tensorboard->nflows) (1.0.1)\n",
            "Requirement already satisfied: wheel>=0.26 in /usr/local/lib/python3.7/dist-packages (from tensorboard->nflows) (0.37.0)\n",
            "Requirement already satisfied: pyasn1-modules>=0.2.1 in /usr/local/lib/python3.7/dist-packages (from google-auth<3,>=1.6.3->tensorboard->nflows) (0.2.8)\n",
            "Requirement already satisfied: cachetools<5.0,>=2.0.0 in /usr/local/lib/python3.7/dist-packages (from google-auth<3,>=1.6.3->tensorboard->nflows) (4.2.4)\n",
            "Requirement already satisfied: rsa<5,>=3.1.4 in /usr/local/lib/python3.7/dist-packages (from google-auth<3,>=1.6.3->tensorboard->nflows) (4.7.2)\n",
            "Requirement already satisfied: requests-oauthlib>=0.7.0 in /usr/local/lib/python3.7/dist-packages (from google-auth-oauthlib<0.5,>=0.4.1->tensorboard->nflows) (1.3.0)\n",
            "Requirement already satisfied: importlib-metadata in /usr/local/lib/python3.7/dist-packages (from markdown>=2.6.8->tensorboard->nflows) (4.8.2)\n",
            "Requirement already satisfied: pyasn1<0.5.0,>=0.4.6 in /usr/local/lib/python3.7/dist-packages (from pyasn1-modules>=0.2.1->google-auth<3,>=1.6.3->tensorboard->nflows) (0.4.8)\n",
            "Requirement already satisfied: idna<3,>=2.5 in /usr/local/lib/python3.7/dist-packages (from requests<3,>=2.21.0->tensorboard->nflows) (2.10)\n",
            "Requirement already satisfied: urllib3!=1.25.0,!=1.25.1,<1.26,>=1.21.1 in /usr/local/lib/python3.7/dist-packages (from requests<3,>=2.21.0->tensorboard->nflows) (1.24.3)\n",
            "Requirement already satisfied: chardet<4,>=3.0.2 in /usr/local/lib/python3.7/dist-packages (from requests<3,>=2.21.0->tensorboard->nflows) (3.0.4)\n",
            "Requirement already satisfied: certifi>=2017.4.17 in /usr/local/lib/python3.7/dist-packages (from requests<3,>=2.21.0->tensorboard->nflows) (2021.10.8)\n",
            "Requirement already satisfied: oauthlib>=3.0.0 in /usr/local/lib/python3.7/dist-packages (from requests-oauthlib>=0.7.0->google-auth-oauthlib<0.5,>=0.4.1->tensorboard->nflows) (3.1.1)\n",
            "Requirement already satisfied: zipp>=0.5 in /usr/local/lib/python3.7/dist-packages (from importlib-metadata->markdown>=2.6.8->tensorboard->nflows) (3.6.0)\n",
            "Requirement already satisfied: typing-extensions>=3.6.4 in /usr/local/lib/python3.7/dist-packages (from importlib-metadata->markdown>=2.6.8->tensorboard->nflows) (3.10.0.2)\n",
            "Building wheels for collected packages: nflows\n",
            "  Building wheel for nflows (setup.py) ... \u001b[?25l\u001b[?25hdone\n",
            "  Created wheel for nflows: filename=nflows-0.14-py3-none-any.whl size=53671 sha256=f474cff6468c54ca7a82a66add69dcd387d139d9e50c6ed23bf7b2b124e45be2\n",
            "  Stored in directory: /root/.cache/pip/wheels/c0/b6/52/0092eedabce8f7faa35b92522393fbdc1ec5ede99b0ec820d5\n",
            "Successfully built nflows\n",
            "Installing collected packages: nflows\n",
            "Successfully installed nflows-0.14\n"
          ]
        }
      ]
    },
    {
      "cell_type": "markdown",
      "metadata": {
        "id": "kZ-HjTWTOtij"
      },
      "source": [
        "# MNIST"
      ]
    },
    {
      "cell_type": "code",
      "metadata": {
        "id": "y_kSAPetNqOO"
      },
      "source": [
        "if torch.cuda.is_available():\n",
        "  device = torch.device('cuda:0')\n",
        "  torch.cuda.set_device(device)"
      ],
      "execution_count": null,
      "outputs": []
    },
    {
      "cell_type": "code",
      "metadata": {
        "id": "SpiZJbzYOzo9"
      },
      "source": [
        "import gzip\n",
        "import pickle\n",
        "\n",
        "def load_data():\n",
        "  f = gzip.open('mnist.pkl.gz', 'rb')\n",
        "\n",
        "  # fix for encoding of pickle\n",
        "  u = pickle._Unpickler(f)\n",
        "  u.encoding = 'latin1'\n",
        "\n",
        "  train_data, validation_data, test_data = u.load()\n",
        "  f.close()\n",
        "\n",
        "  return (train_data, validation_data, test_data)"
      ],
      "execution_count": null,
      "outputs": []
    },
    {
      "cell_type": "code",
      "metadata": {
        "id": "IgNSTJfrs_un"
      },
      "source": [
        "def preprocess_data(data, rng, alpha=1.0e-6, logit=False, should_dequantize=True):\n",
        "  \"\"\"\n",
        "  Processes the dataset\n",
        "  \"\"\"\n",
        "  x = dequantize(data[0], rng) if should_dequantize else data[0]  # dequantize pixels\n",
        "  x = logit_transform(x, alpha) if logit else x                   # logit\n",
        "  labels = data[1]                                                # numeric labels\n",
        "  encoded_labels = one_hot_encode(labels, 10)                     # 1-hot encoded labels\n",
        "  return (x, labels, encoded_labels)\n",
        "\n",
        "def dequantize(x, rng):\n",
        "  \"\"\"\n",
        "  Adds noise to pixels to dequantize them\n",
        "  \"\"\"\n",
        "  return x + rng.rand(*x.shape) / 256.0\n",
        "\n",
        "def logit_transform(x, alpha=1.0e-6):\n",
        "  \"\"\"\n",
        "  Transforms pixel values with logit to reduce the impact of boundary effects\n",
        "  \"\"\"\n",
        "  a = alpha + (1 - 2*alpha) * x\n",
        "  return np.log(a / (1.0 - a))\n",
        "\n",
        "def one_hot_encode(labels, nr_labels):\n",
        "  \"\"\"\n",
        "  Transforms numeric labels to 1-hot encoded labels\n",
        "  \"\"\"\n",
        "  y = np.zeros([labels.size, nr_labels])\n",
        "  y[range(labels.size), labels] = 1\n",
        "  return y"
      ],
      "execution_count": null,
      "outputs": []
    },
    {
      "cell_type": "code",
      "metadata": {
        "id": "t5rEcmrk02zT"
      },
      "source": [
        "def load_vectorized_data():\n",
        "  train_data, validation_data, test_data = load_data()\n",
        "  rng = np.random.RandomState(42)\n",
        "\n",
        "  processed_train_data = preprocess_data(train_data, rng, logit=True)\n",
        "  processed_validation_data = preprocess_data(validation_data, rng, logit=True)\n",
        "  processed_test_data = preprocess_data(test_data, rng, logit=True)\n",
        "  \n",
        "  return (processed_train_data, processed_validation_data, processed_test_data)"
      ],
      "execution_count": null,
      "outputs": []
    },
    {
      "cell_type": "code",
      "metadata": {
        "id": "MWIAnX_Hz5Kx"
      },
      "source": [
        "train_data, validation_data, test_data = load_vectorized_data()\n",
        "\n",
        "train_x = train_data[0]\n",
        "train_labels = train_data[1]\n",
        "train_y = train_data[2]\n",
        "\n",
        "val_x = validation_data[0]\n",
        "val_labels = validation_data[1]\n",
        "val_y = validation_data[2]\n",
        "\n",
        "test_x = test_data[0]\n",
        "test_labels = test_data[1]\n",
        "test_y = test_data[2]"
      ],
      "execution_count": null,
      "outputs": []
    },
    {
      "cell_type": "code",
      "metadata": {
        "id": "gaBoZr1t296L"
      },
      "source": [
        "def build_flow(num_dim, hidden_features=1024, layers=5, batch_norm=False):\n",
        "  base_dist = StandardNormal(shape=[num_dim])\n",
        "  transforms = []\n",
        "  \n",
        "  for _ in range(layers):\n",
        "    transforms.append(ReversePermutation(features=num_dim))\n",
        "    transforms.append(MaskedAffineAutoregressiveTransform(features=num_dim,\n",
        "                                                          hidden_features=hidden_features,\n",
        "                                                          use_batch_norm=batch_norm))\n",
        "  transform = CompositeTransform(transforms)\n",
        "  return Flow(transform, base_dist)"
      ],
      "execution_count": null,
      "outputs": []
    },
    {
      "cell_type": "code",
      "metadata": {
        "id": "ns7qeA7YKPvv"
      },
      "source": [
        "def plot_loss_progress(progress_trn_loss, progress_val_loss, progress_epoch, best_epoch):\n",
        "  fig, ax = plt.subplots(1, 1)\n",
        "  ax.semilogx(progress_epoch, progress_trn_loss, 'b', label='training')\n",
        "  ax.semilogx(progress_epoch, progress_val_loss, 'r', label='validation')\n",
        "  ax.vlines(best_epoch, ax.get_ylim()[0], ax.get_ylim()[1], color='g', linestyles='dashed', label='best')\n",
        "  ax.set_xlabel('epochs')\n",
        "  ax.set_ylabel('loss')\n",
        "  ax.legend()\n",
        "  plt.show(block=False)"
      ],
      "execution_count": null,
      "outputs": []
    },
    {
      "cell_type": "code",
      "metadata": {
        "id": "ASq4ewaqXnIv"
      },
      "source": [
        "def train(train_x, train_labels, train_loader, val_loader, maxepochs=1, monitor_every_batch=False, show_epoch_loss_progress=False, show_flow=False, weight_decay=None):\n",
        "  num_dim = train_x.shape[1]\n",
        "  lr = 1.0e-4\n",
        "  best_val_loss = float('inf')\n",
        "  best_epoch = None\n",
        "  progress_epoch = []\n",
        "  progress_trn_loss = []\n",
        "  progress_val_loss = []\n",
        "  flow = build_flow(num_dim)\n",
        "\n",
        "  if torch.cuda.is_available():\n",
        "    flow = flow.to(device)\n",
        "  \n",
        "  optimizer = optim.Adam(flow.parameters(),\n",
        "                         lr=lr,\n",
        "                         weight_decay=0 if weight_decay is None else weight_decay)\n",
        "\n",
        "  # scheduler = optim.lr_scheduler.LambdaLR(optimizer, lambda epoch: min(1., epoch / 10))\n",
        "\n",
        "  for epoch in range(1, maxepochs + 1):\n",
        "    iter = 1\n",
        "\n",
        "    t_loss = 0.0\n",
        "    for x, y, _ in train_loader:\n",
        "      optimizer.zero_grad()\n",
        "      train_loss = -flow.log_prob(inputs=x).mean()\n",
        "      train_loss.backward()\n",
        "      optimizer.step()\n",
        "\n",
        "      t_loss = train_loss.cpu().detach().numpy() if torch.cuda.is_available() else train_loss.detach().numpy()\n",
        "      \n",
        "      if monitor_every_batch:\n",
        "        print('Epoch {}, Iteration {}, Train loss {:.5f}'.format(epoch, iter, t_loss))\n",
        "\n",
        "      iter += 1\n",
        "\n",
        "    # if show_flow:\n",
        "    #   fig = plot_flow(flow, train_x, train_labels)\n",
        "    #   fig.suptitle('Epoch {}, Train loss {:.5f}'.format(epoch, t_loss))\n",
        "    #   plt.show()\n",
        "\n",
        "    v_loss = 0.0\n",
        "    with torch.no_grad():\n",
        "      for x, y, _ in val_loader:\n",
        "        val_loss = -flow.log_prob(inputs=x).mean()\n",
        "        v_loss = val_loss.cpu().detach().numpy() if torch.cuda.is_available() else val_loss.detach().numpy()\n",
        "      \n",
        "    progress_trn_loss.append(t_loss)\n",
        "    progress_val_loss.append(v_loss)\n",
        "    progress_epoch.append(epoch)\n",
        "\n",
        "    print('Epoch: {}, Train loss: {:.5f}, Validation loss: {:.5f}'.format(epoch, t_loss, v_loss))\n",
        "\n",
        "    if best_val_loss > v_loss:\n",
        "      best_val_loss = v_loss\n",
        "      torch.save(model, \"/content/drive/MyDrive/Colab Notebooks/MAF-MNIST-2-11-2021-best.pth\")\n",
        "      best_epoch = epoch\n",
        "\n",
        "    # scheduler.step()\n",
        "    \n",
        "  if show_epoch_loss_progress:\n",
        "    plot_loss_progress(progress_trn_loss, progress_val_loss, progress_epoch, best_epoch)\n",
        "\n",
        "  return flow"
      ],
      "execution_count": null,
      "outputs": []
    },
    {
      "cell_type": "code",
      "metadata": {
        "id": "NPzUArpZAWPQ"
      },
      "source": [
        "tt_train_x = torch.tensor(train_x, dtype=torch.float32)\n",
        "tt_train_y = torch.tensor(train_y, dtype=torch.float32)\n",
        "tt_train_labels = torch.tensor(train_labels, dtype=torch.float32)\n",
        "\n",
        "tt_val_x = torch.tensor(val_x, dtype=torch.float32)\n",
        "tt_val_y = torch.tensor(val_y, dtype=torch.float32)\n",
        "tt_val_labels = torch.tensor(val_labels, dtype=torch.float32)\n",
        "\n",
        "if torch.cuda.is_available():\n",
        "  tt_train_x = tt_train_x.to(device)\n",
        "  tt_train_y = tt_train_y.to(device)\n",
        "  tt_train_labels = tt_train_labels.to(device)\n",
        "\n",
        "  tt_val_x = tt_val_x.to(device)\n",
        "  tt_val_y = tt_val_y.to(device)\n",
        "  tt_val_labels = tt_val_labels.to(device)\n",
        "\n",
        "train_set = TensorDataset(tt_train_x, tt_train_y, tt_train_labels)\n",
        "val_set = TensorDataset(tt_val_x, tt_val_y, tt_val_labels)\n",
        "\n",
        "batch_size = 100\n",
        "train_loader = DataLoader(train_set, batch_size=batch_size, shuffle=True, num_workers=0)\n",
        "val_loader = DataLoader(val_set, batch_size=batch_size, shuffle=True, num_workers=0)"
      ],
      "execution_count": null,
      "outputs": []
    },
    {
      "cell_type": "code",
      "metadata": {
        "colab": {
          "base_uri": "https://localhost:8080/",
          "height": 1000
        },
        "id": "m_WhSx9yYZjf",
        "outputId": "0278681d-fb4d-464d-9694-c26c5cfd42bf"
      },
      "source": [
        "epochs = 50\n",
        "wd_rate = 1.0e-6\n",
        "model = train(train_x, \n",
        "              train_labels, \n",
        "              train_loader, \n",
        "              val_loader, \n",
        "              maxepochs=epochs, \n",
        "              weight_decay=wd_rate,\n",
        "              show_epoch_loss_progress=True)"
      ],
      "execution_count": null,
      "outputs": [
        {
          "output_type": "stream",
          "name": "stdout",
          "text": [
            "Epoch: 1, Train loss: 1482.09119, Validation loss: 1495.49341\n",
            "Epoch: 2, Train loss: 1403.40088, Validation loss: 1422.66125\n",
            "Epoch: 3, Train loss: 1361.44153, Validation loss: 1369.95532\n",
            "Epoch: 4, Train loss: 1362.99963, Validation loss: 1353.94189\n",
            "Epoch: 5, Train loss: 1327.48633, Validation loss: 1349.34253\n",
            "Epoch: 6, Train loss: 1316.13464, Validation loss: 1324.43018\n",
            "Epoch: 7, Train loss: 1309.10681, Validation loss: 1312.87634\n",
            "Epoch: 8, Train loss: 1305.14111, Validation loss: 1313.53979\n",
            "Epoch: 9, Train loss: 1280.63538, Validation loss: 1313.14392\n",
            "Epoch: 10, Train loss: 1272.53857, Validation loss: 1292.71716\n",
            "Epoch: 11, Train loss: 1279.25842, Validation loss: 1273.34570\n",
            "Epoch: 12, Train loss: 1261.45850, Validation loss: 1274.11304\n",
            "Epoch: 13, Train loss: 1252.02649, Validation loss: 1296.33362\n",
            "Epoch: 14, Train loss: 1256.37561, Validation loss: 1285.46643\n",
            "Epoch: 15, Train loss: 1247.76636, Validation loss: 1272.94312\n",
            "Epoch: 16, Train loss: 1238.56140, Validation loss: 1256.85046\n",
            "Epoch: 17, Train loss: 1229.13220, Validation loss: 1269.48071\n",
            "Epoch: 18, Train loss: 1230.08923, Validation loss: 1274.77356\n",
            "Epoch: 19, Train loss: 1223.83813, Validation loss: 1258.82056\n",
            "Epoch: 20, Train loss: 1214.80127, Validation loss: 1258.75439\n",
            "Epoch: 21, Train loss: 1209.30261, Validation loss: 1260.67871\n",
            "Epoch: 22, Train loss: 1201.31946, Validation loss: 1260.34595\n",
            "Epoch: 23, Train loss: 1197.42310, Validation loss: 1266.60315\n",
            "Epoch: 24, Train loss: 1194.02283, Validation loss: 1258.23962\n",
            "Epoch: 25, Train loss: 1196.13586, Validation loss: 1269.42651\n",
            "Epoch: 26, Train loss: 1202.59741, Validation loss: 1249.81250\n",
            "Epoch: 27, Train loss: 1192.21716, Validation loss: 1248.12195\n",
            "Epoch: 28, Train loss: 1188.26904, Validation loss: 1257.50452\n",
            "Epoch: 29, Train loss: 1195.42493, Validation loss: 1269.32617\n",
            "Epoch: 30, Train loss: 1168.28076, Validation loss: 1250.64441\n",
            "Epoch: 31, Train loss: 1175.40088, Validation loss: 1242.88000\n",
            "Epoch: 32, Train loss: 1172.25488, Validation loss: 1246.89612\n",
            "Epoch: 33, Train loss: 1173.83008, Validation loss: 1247.35388\n",
            "Epoch: 34, Train loss: 1166.32019, Validation loss: 1249.96729\n",
            "Epoch: 35, Train loss: 1171.89343, Validation loss: 1254.18713\n",
            "Epoch: 36, Train loss: 1166.78076, Validation loss: 1267.94604\n",
            "Epoch: 37, Train loss: 1164.12048, Validation loss: 1262.41602\n",
            "Epoch: 38, Train loss: 1153.01355, Validation loss: 1321.30212\n",
            "Epoch: 39, Train loss: 1147.14832, Validation loss: 1246.07117\n",
            "Epoch: 40, Train loss: 1149.54785, Validation loss: 1256.38037\n",
            "Epoch: 41, Train loss: 1150.67847, Validation loss: 1267.73596\n",
            "Epoch: 42, Train loss: 1148.75537, Validation loss: 1266.10107\n",
            "Epoch: 43, Train loss: 1135.00854, Validation loss: 1297.59766\n",
            "Epoch: 44, Train loss: 1147.29529, Validation loss: 1269.35742\n",
            "Epoch: 45, Train loss: 1142.01550, Validation loss: 1303.01880\n",
            "Epoch: 46, Train loss: 1133.18506, Validation loss: 1253.64465\n",
            "Epoch: 47, Train loss: 1142.65344, Validation loss: 1260.52319\n",
            "Epoch: 48, Train loss: 1118.71484, Validation loss: 1269.46570\n",
            "Epoch: 49, Train loss: 1130.78003, Validation loss: 1285.48596\n",
            "Epoch: 50, Train loss: 1140.59705, Validation loss: 1278.52478\n"
          ]
        },
        {
          "output_type": "display_data",
          "data": {
            "image/png": "[encoded data removed]",
            "text/plain": [
              "<Figure size 432x288 with 1 Axes>"
            ]
          },
          "metadata": {
            "needs_background": "light"
          }
        }
      ]
    },
    {
      "cell_type": "code",
      "metadata": {
        "colab": {
          "base_uri": "https://localhost:8080/"
        },
        "id": "wFJpjXPCzFaa",
        "outputId": "4f5ca9f7-333f-4580-cb12-6cfc5a635082"
      },
      "source": [
        "from google.colab import drive\n",
        "drive.mount('/content/drive')"
      ],
      "execution_count": null,
      "outputs": [
        {
          "output_type": "stream",
          "name": "stdout",
          "text": [
            "Mounted at /content/drive\n"
          ]
        }
      ]
    },
    {
      "cell_type": "code",
      "metadata": {
        "id": "hFdAVq_9zG-a"
      },
      "source": [
        "torch.save(model, \"/content/drive/MyDrive/Colab Notebooks/MAF-MNIST-2-11-2021-best.pth\")"
      ],
      "execution_count": null,
      "outputs": []
    },
    {
      "cell_type": "code",
      "metadata": {
        "id": "TMg5Jo_mlaxZ"
      },
      "source": [
        "model = torch.load('/content/drive/MyDrive/Colab Notebooks/MAF-MNIST-2-11-2021-best.pth')"
      ],
      "execution_count": null,
      "outputs": []
    },
    {
      "cell_type": "code",
      "metadata": {
        "colab": {
          "base_uri": "https://localhost:8080/",
          "height": 268
        },
        "id": "C4RBP1FIjsYL",
        "outputId": "e14af21b-b7af-4045-d018-df626e9a762c"
      },
      "source": [
        "with torch.no_grad():\n",
        "  z = model.sample(2)\n",
        "\n",
        "fig, axs = plt.subplots(2)\n",
        "z_cpu = z[0].cpu()\n",
        "\n",
        "axs[0].imshow(inv_logit(z_cpu).detach().numpy().reshape(28,28), cmap='gray')\n",
        "plt.show()"
      ],
      "execution_count": null,
      "outputs": [
        {
          "output_type": "display_data",
          "data": {
            "image/png": "[encoded data removed]",
            "text/plain": [
              "<Figure size 432x288 with 2 Axes>"
            ]
          },
          "metadata": {
            "needs_background": "light"
          }
        }
      ]
    },
    {
      "cell_type": "code",
      "metadata": {
        "id": "mek44nlzqeB1"
      },
      "source": [
        "def inv_logit(x):\n",
        "  alpha = 1.0e-6\n",
        "  return (1.0 / (1.0 + np.exp(-x)) - alpha) / (1 - 2*alpha) "
      ],
      "execution_count": null,
      "outputs": []
    },
    {
      "cell_type": "markdown",
      "metadata": {
        "id": "A8qydxov5a4N"
      },
      "source": [
        "Test data"
      ]
    },
    {
      "cell_type": "code",
      "metadata": {
        "id": "w9axp0Qm2hyz"
      },
      "source": [
        "tt_test_x = torch.tensor(test_x, dtype=torch.float32)\n",
        "tt_test_y = torch.tensor(test_y, dtype=torch.float32)\n",
        "tt_test_labels = torch.tensor(test_labels, dtype=torch.float32)\n",
        "\n",
        "if torch.cuda.is_available():\n",
        "  tt_test_x = tt_test_x.to(device)\n",
        "  tt_test_y = tt_test_y.to(device)\n",
        "  tt_test_labels = tt_test_labels.to(device)"
      ],
      "execution_count": null,
      "outputs": []
    },
    {
      "cell_type": "code",
      "metadata": {
        "id": "gFlQLGgG1b9O"
      },
      "source": [
        ""
      ],
      "execution_count": null,
      "outputs": []
    }
  ]
}