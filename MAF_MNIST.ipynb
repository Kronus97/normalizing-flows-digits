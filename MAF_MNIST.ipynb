{
  "nbformat": 4,
  "nbformat_minor": 0,
  "metadata": {
    "colab": {
      "name": "MAF-MNIST.ipynb",
      "provenance": [],
      "collapsed_sections": []
    },
    "kernelspec": {
      "display_name": "Python 3",
      "name": "python3"
    },
    "language_info": {
      "name": "python"
    },
    "accelerator": "GPU"
  },
  "cells": [
    {
      "cell_type": "markdown",
      "metadata": {
        "id": "amiBlH_Mi5y2"
      },
      "source": [
        "Imports\n"
      ]
    },
    {
      "cell_type": "code",
      "metadata": {
        "colab": {
          "base_uri": "https://localhost:8080/"
        },
        "id": "9SRJi9sfimRc",
        "outputId": "265d0120-fb72-4d59-8fdf-c3f05de8aefe"
      },
      "source": [
        "import matplotlib.pyplot as plt\n",
        "import sklearn.datasets as datasets\n",
        "import numpy as np\n",
        "\n",
        "import random\n",
        "from datetime import date\n",
        "\n",
        "import torch\n",
        "from torch import nn\n",
        "from torch import optim\n",
        "from torch.utils.data import TensorDataset, DataLoader\n",
        "\n",
        "! pip install nflows\n",
        "from nflows.flows.base import Flow\n",
        "from nflows.distributions.normal import StandardNormal, ConditionalDiagonalNormal\n",
        "from nflows.transforms.base import CompositeTransform\n",
        "from nflows.transforms.autoregressive import MaskedAffineAutoregressiveTransform\n",
        "from nflows.transforms.permutations import ReversePermutation"
      ],
      "execution_count": 9,
      "outputs": [
        {
          "output_type": "stream",
          "name": "stdout",
          "text": [
            "Requirement already satisfied: nflows in /usr/local/lib/python3.7/dist-packages (0.14)\n",
            "Requirement already satisfied: tensorboard in /usr/local/lib/python3.7/dist-packages (from nflows) (2.7.0)\n",
            "Requirement already satisfied: torch in /usr/local/lib/python3.7/dist-packages (from nflows) (1.10.0+cu111)\n",
            "Requirement already satisfied: matplotlib in /usr/local/lib/python3.7/dist-packages (from nflows) (3.2.2)\n",
            "Requirement already satisfied: numpy in /usr/local/lib/python3.7/dist-packages (from nflows) (1.19.5)\n",
            "Requirement already satisfied: tqdm in /usr/local/lib/python3.7/dist-packages (from nflows) (4.62.3)\n",
            "Requirement already satisfied: pyparsing!=2.0.4,!=2.1.2,!=2.1.6,>=2.0.1 in /usr/local/lib/python3.7/dist-packages (from matplotlib->nflows) (3.0.6)\n",
            "Requirement already satisfied: kiwisolver>=1.0.1 in /usr/local/lib/python3.7/dist-packages (from matplotlib->nflows) (1.3.2)\n",
            "Requirement already satisfied: python-dateutil>=2.1 in /usr/local/lib/python3.7/dist-packages (from matplotlib->nflows) (2.8.2)\n",
            "Requirement already satisfied: cycler>=0.10 in /usr/local/lib/python3.7/dist-packages (from matplotlib->nflows) (0.11.0)\n",
            "Requirement already satisfied: six>=1.5 in /usr/local/lib/python3.7/dist-packages (from python-dateutil>=2.1->matplotlib->nflows) (1.15.0)\n",
            "Requirement already satisfied: setuptools>=41.0.0 in /usr/local/lib/python3.7/dist-packages (from tensorboard->nflows) (57.4.0)\n",
            "Requirement already satisfied: google-auth-oauthlib<0.5,>=0.4.1 in /usr/local/lib/python3.7/dist-packages (from tensorboard->nflows) (0.4.6)\n",
            "Requirement already satisfied: requests<3,>=2.21.0 in /usr/local/lib/python3.7/dist-packages (from tensorboard->nflows) (2.23.0)\n",
            "Requirement already satisfied: google-auth<3,>=1.6.3 in /usr/local/lib/python3.7/dist-packages (from tensorboard->nflows) (1.35.0)\n",
            "Requirement already satisfied: grpcio>=1.24.3 in /usr/local/lib/python3.7/dist-packages (from tensorboard->nflows) (1.42.0)\n",
            "Requirement already satisfied: absl-py>=0.4 in /usr/local/lib/python3.7/dist-packages (from tensorboard->nflows) (0.12.0)\n",
            "Requirement already satisfied: tensorboard-data-server<0.7.0,>=0.6.0 in /usr/local/lib/python3.7/dist-packages (from tensorboard->nflows) (0.6.1)\n",
            "Requirement already satisfied: tensorboard-plugin-wit>=1.6.0 in /usr/local/lib/python3.7/dist-packages (from tensorboard->nflows) (1.8.0)\n",
            "Requirement already satisfied: werkzeug>=0.11.15 in /usr/local/lib/python3.7/dist-packages (from tensorboard->nflows) (1.0.1)\n",
            "Requirement already satisfied: wheel>=0.26 in /usr/local/lib/python3.7/dist-packages (from tensorboard->nflows) (0.37.0)\n",
            "Requirement already satisfied: markdown>=2.6.8 in /usr/local/lib/python3.7/dist-packages (from tensorboard->nflows) (3.3.6)\n",
            "Requirement already satisfied: protobuf>=3.6.0 in /usr/local/lib/python3.7/dist-packages (from tensorboard->nflows) (3.17.3)\n",
            "Requirement already satisfied: cachetools<5.0,>=2.0.0 in /usr/local/lib/python3.7/dist-packages (from google-auth<3,>=1.6.3->tensorboard->nflows) (4.2.4)\n",
            "Requirement already satisfied: pyasn1-modules>=0.2.1 in /usr/local/lib/python3.7/dist-packages (from google-auth<3,>=1.6.3->tensorboard->nflows) (0.2.8)\n",
            "Requirement already satisfied: rsa<5,>=3.1.4 in /usr/local/lib/python3.7/dist-packages (from google-auth<3,>=1.6.3->tensorboard->nflows) (4.7.2)\n",
            "Requirement already satisfied: requests-oauthlib>=0.7.0 in /usr/local/lib/python3.7/dist-packages (from google-auth-oauthlib<0.5,>=0.4.1->tensorboard->nflows) (1.3.0)\n",
            "Requirement already satisfied: importlib-metadata>=4.4 in /usr/local/lib/python3.7/dist-packages (from markdown>=2.6.8->tensorboard->nflows) (4.8.2)\n",
            "Requirement already satisfied: typing-extensions>=3.6.4 in /usr/local/lib/python3.7/dist-packages (from importlib-metadata>=4.4->markdown>=2.6.8->tensorboard->nflows) (3.10.0.2)\n",
            "Requirement already satisfied: zipp>=0.5 in /usr/local/lib/python3.7/dist-packages (from importlib-metadata>=4.4->markdown>=2.6.8->tensorboard->nflows) (3.6.0)\n",
            "Requirement already satisfied: pyasn1<0.5.0,>=0.4.6 in /usr/local/lib/python3.7/dist-packages (from pyasn1-modules>=0.2.1->google-auth<3,>=1.6.3->tensorboard->nflows) (0.4.8)\n",
            "Requirement already satisfied: idna<3,>=2.5 in /usr/local/lib/python3.7/dist-packages (from requests<3,>=2.21.0->tensorboard->nflows) (2.10)\n",
            "Requirement already satisfied: certifi>=2017.4.17 in /usr/local/lib/python3.7/dist-packages (from requests<3,>=2.21.0->tensorboard->nflows) (2021.10.8)\n",
            "Requirement already satisfied: chardet<4,>=3.0.2 in /usr/local/lib/python3.7/dist-packages (from requests<3,>=2.21.0->tensorboard->nflows) (3.0.4)\n",
            "Requirement already satisfied: urllib3!=1.25.0,!=1.25.1,<1.26,>=1.21.1 in /usr/local/lib/python3.7/dist-packages (from requests<3,>=2.21.0->tensorboard->nflows) (1.24.3)\n",
            "Requirement already satisfied: oauthlib>=3.0.0 in /usr/local/lib/python3.7/dist-packages (from requests-oauthlib>=0.7.0->google-auth-oauthlib<0.5,>=0.4.1->tensorboard->nflows) (3.1.1)\n"
          ]
        }
      ]
    },
    {
      "cell_type": "markdown",
      "metadata": {
        "id": "kZ-HjTWTOtij"
      },
      "source": [
        "# MNIST"
      ]
    },
    {
      "cell_type": "code",
      "metadata": {
        "id": "y_kSAPetNqOO"
      },
      "source": [
        "if torch.cuda.is_available():\n",
        "  device = torch.device('cuda:0')\n",
        "  torch.cuda.set_device(device)"
      ],
      "execution_count": 10,
      "outputs": []
    },
    {
      "cell_type": "code",
      "metadata": {
        "id": "SpiZJbzYOzo9"
      },
      "source": [
        "import gzip\n",
        "import pickle\n",
        "\n",
        "def load_data():\n",
        "  f = gzip.open('mnist.pkl.gz', 'rb')\n",
        "\n",
        "  # fix for encoding of pickle\n",
        "  u = pickle._Unpickler(f)\n",
        "  u.encoding = 'latin1'\n",
        "\n",
        "  train_data, validation_data, test_data = u.load()\n",
        "  f.close()\n",
        "\n",
        "  return (train_data, validation_data, test_data)"
      ],
      "execution_count": 11,
      "outputs": []
    },
    {
      "cell_type": "code",
      "metadata": {
        "id": "IgNSTJfrs_un"
      },
      "source": [
        "def preprocess_data(data, rng, alpha=1.0e-6, logit=False, should_dequantize=True):\n",
        "  \"\"\"\n",
        "  Processes the dataset\n",
        "  \"\"\"\n",
        "  x = dequantize(data[0], rng) if should_dequantize else data[0]  # dequantize pixels\n",
        "  x = logit_transform(x, alpha) if logit else x                   # logit\n",
        "  labels = data[1]                                                # numeric labels\n",
        "  encoded_labels = one_hot_encode(labels, 10)                     # 1-hot encoded labels\n",
        "  return (x, labels, encoded_labels)\n",
        "\n",
        "def dequantize(x, rng):\n",
        "  \"\"\"\n",
        "  Adds noise to pixels to dequantize them\n",
        "  \"\"\"\n",
        "  return x + rng.rand(*x.shape) / 256.0\n",
        "\n",
        "def logit_transform(x, alpha=1.0e-6):\n",
        "  \"\"\"\n",
        "  Transforms pixel values with logit to reduce the impact of boundary effects\n",
        "  \"\"\"\n",
        "  a = alpha + (1 - 2*alpha) * x\n",
        "  return np.log(a / (1.0 - a))\n",
        "\n",
        "def one_hot_encode(labels, nr_labels):\n",
        "  \"\"\"\n",
        "  Transforms numeric labels to 1-hot encoded labels\n",
        "  \"\"\"\n",
        "  y = np.zeros([labels.size, nr_labels])\n",
        "  y[range(labels.size), labels] = 1\n",
        "  return y"
      ],
      "execution_count": 12,
      "outputs": []
    },
    {
      "cell_type": "code",
      "metadata": {
        "id": "t5rEcmrk02zT"
      },
      "source": [
        "def load_vectorized_data():\n",
        "  train_data, validation_data, test_data = load_data()\n",
        "  rng = np.random.RandomState(42)\n",
        "\n",
        "  processed_train_data = preprocess_data(train_data, rng, logit=True)\n",
        "  processed_validation_data = preprocess_data(validation_data, rng, logit=True)\n",
        "  processed_test_data = preprocess_data(test_data, rng, logit=True)\n",
        "  \n",
        "  return (processed_train_data, processed_validation_data, processed_test_data)"
      ],
      "execution_count": 13,
      "outputs": []
    },
    {
      "cell_type": "code",
      "metadata": {
        "id": "MWIAnX_Hz5Kx"
      },
      "source": [
        "train_data, validation_data, test_data = load_vectorized_data()\n",
        "\n",
        "train_x = train_data[0]\n",
        "train_labels = train_data[1]\n",
        "train_y = train_data[2]\n",
        "\n",
        "val_x = validation_data[0]\n",
        "val_labels = validation_data[1]\n",
        "val_y = validation_data[2]\n",
        "\n",
        "test_x = test_data[0]\n",
        "test_labels = test_data[1]\n",
        "test_y = test_data[2]"
      ],
      "execution_count": 68,
      "outputs": []
    },
    {
      "cell_type": "code",
      "metadata": {
        "id": "gaBoZr1t296L"
      },
      "source": [
        "def build_flow(num_dim, hidden_features=1024, layers=5, batch_norm=False):\n",
        "  base_dist = StandardNormal(shape=[num_dim])\n",
        "  transforms = []\n",
        "  \n",
        "  for _ in range(layers):\n",
        "    transforms.append(ReversePermutation(features=num_dim))\n",
        "    transforms.append(MaskedAffineAutoregressiveTransform(features=num_dim,\n",
        "                                                          hidden_features=hidden_features,\n",
        "                                                          use_batch_norm=batch_norm))\n",
        "  transform = CompositeTransform(transforms)\n",
        "  return Flow(transform, base_dist)"
      ],
      "execution_count": 15,
      "outputs": []
    },
    {
      "cell_type": "code",
      "metadata": {
        "id": "4NUGATeEdDj1"
      },
      "source": [
        "def build_cond_flow(num_dim, condition='digit', hidden_features=1024, layers=5, batch_norm=False):\n",
        "  posible_conditioning = { 'digit': 10, 'color': 3 }\n",
        "  context_features = posible_conditioning.get(condition, 1)\n",
        "  base_dist = ConditionalDiagonalNormal(shape=[num_dim],\n",
        "                                        context_encoder=nn.Linear(context_features, 2 * num_dim))\n",
        "  transforms = []\n",
        "  \n",
        "  for _ in range(layers):\n",
        "    transforms.append(ReversePermutation(features=num_dim))\n",
        "    transforms.append(MaskedAffineAutoregressiveTransform(features=num_dim,\n",
        "                                                          hidden_features=hidden_features,\n",
        "                                                          use_batch_norm=batch_norm,\n",
        "                                                          context_features=context_features))\n",
        "  \n",
        "  transform = CompositeTransform(transforms)\n",
        "  return Flow(transform, base_dist)"
      ],
      "execution_count": 16,
      "outputs": []
    },
    {
      "cell_type": "code",
      "metadata": {
        "id": "ns7qeA7YKPvv"
      },
      "source": [
        "def plot_loss_progress(progress_trn_loss, progress_val_loss, progress_epoch, best_epoch):\n",
        "  fig, ax = plt.subplots(1, 1)\n",
        "  ax.semilogx(progress_epoch, progress_trn_loss, 'b', label='training')\n",
        "  ax.semilogx(progress_epoch, progress_val_loss, 'r', label='validation')\n",
        "  ax.vlines(best_epoch, ax.get_ylim()[0], ax.get_ylim()[1], color='g', linestyles='dashed', label='best')\n",
        "  ax.set_xlabel('epochs')\n",
        "  ax.set_ylabel('loss')\n",
        "  ax.legend()\n",
        "  plt.show(block=False)"
      ],
      "execution_count": 17,
      "outputs": []
    },
    {
      "cell_type": "code",
      "metadata": {
        "id": "ASq4ewaqXnIv"
      },
      "source": [
        "def train(train_x, train_labels, train_loader, val_loader, maxepochs=1, monitor_every_batch=False, show_epoch_loss_progress=False, show_flow=False, weight_decay=None, conditional=False, conditioning_criteria='digit'):\n",
        "  num_dim = train_x.shape[1]\n",
        "  lr = 1.0e-4\n",
        "  best_val_loss = float('inf')\n",
        "  best_epoch = None\n",
        "  progress_epoch = []\n",
        "  progress_trn_loss = []\n",
        "  progress_val_loss = []\n",
        "  flow = build_cond_flow(num_dim, condition=conditioning_criteria) if conditional else build_flow(num_dim)\n",
        "\n",
        "  if torch.cuda.is_available():\n",
        "    flow = flow.to(device)\n",
        "  \n",
        "  optimizer = optim.Adam(flow.parameters(),\n",
        "                         lr=lr,\n",
        "                         weight_decay=0 if weight_decay is None else weight_decay)\n",
        "\n",
        "  # scheduler = optim.lr_scheduler.LambdaLR(optimizer, lambda epoch: min(1., epoch / 10))\n",
        "\n",
        "  for epoch in range(1, maxepochs + 1):\n",
        "    iter = 1\n",
        "\n",
        "    t_loss = 0.0\n",
        "    for x, y, l in train_loader:\n",
        "      # print(y[0])\n",
        "      optimizer.zero_grad()\n",
        "      train_loss = -flow.log_prob(inputs=x, context=y).mean() if conditional else -flow.log_prob(inputs=x).mean()\n",
        "      train_loss.backward()\n",
        "      optimizer.step()\n",
        "\n",
        "      t_loss = train_loss.cpu().detach().numpy() if torch.cuda.is_available() else train_loss.detach().numpy()\n",
        "      \n",
        "      if monitor_every_batch:\n",
        "        print('Epoch {}, Iteration {}, Train loss {:.5f}'.format(epoch, iter, t_loss))\n",
        "\n",
        "      iter += 1\n",
        "\n",
        "    v_loss = 0.0\n",
        "    with torch.no_grad():\n",
        "      for x, y, l in val_loader:\n",
        "        val_loss = -flow.log_prob(inputs=x, context=y).mean() if conditional else -flow.log_prob(inputs=x).mean()\n",
        "        v_loss = val_loss.cpu().detach().numpy() if torch.cuda.is_available() else val_loss.detach().numpy()\n",
        "      \n",
        "    progress_trn_loss.append(t_loss)\n",
        "    progress_val_loss.append(v_loss)\n",
        "    progress_epoch.append(epoch)\n",
        "\n",
        "    print('Epoch: {}, Train loss: {:.5f}, Validation loss: {:.5f}'.format(epoch, t_loss, v_loss))\n",
        "\n",
        "    if best_val_loss > v_loss:\n",
        "      best_val_loss = v_loss\n",
        "      today = date.today().strftime(\"%d-%m-%Y\")\n",
        "      filename = \"MAF-MNIST-{}-{}-best.pth\".format(conditioning_criteria if conditional else '', today)\n",
        "      torch.save(flow, \"/content/drive/MyDrive/Colab Notebooks/{}\".format(filename))\n",
        "      best_epoch = epoch\n",
        "    \n",
        "  if show_epoch_loss_progress:\n",
        "    plot_loss_progress(progress_trn_loss, progress_val_loss, progress_epoch, best_epoch)\n",
        "\n",
        "  return flow"
      ],
      "execution_count": 64,
      "outputs": []
    },
    {
      "cell_type": "code",
      "metadata": {
        "id": "NPzUArpZAWPQ"
      },
      "source": [
        "conditioning_criteria = 'color'\n",
        "\n",
        "if conditioning_criteria == 'color':\n",
        "  (train_x, train_y) = color_features(train_x, randomize=True)\n",
        "  (val_x, val_y) = color_features(val_x, randomize=True)\n",
        "\n",
        "tt_train_x = torch.tensor(train_x, dtype=torch.float32)\n",
        "tt_train_y = torch.tensor(train_y, dtype=torch.float32)\n",
        "tt_train_labels = torch.tensor(train_labels, dtype=torch.float32)\n",
        "\n",
        "tt_val_x = torch.tensor(val_x, dtype=torch.float32)\n",
        "tt_val_y = torch.tensor(val_y, dtype=torch.float32)\n",
        "tt_val_labels = torch.tensor(val_labels, dtype=torch.float32)\n",
        "\n",
        "if torch.cuda.is_available():\n",
        "  tt_train_x = tt_train_x.to(device)\n",
        "  tt_train_y = tt_train_y.to(device)\n",
        "  tt_train_labels = tt_train_labels.to(device)\n",
        "\n",
        "  tt_val_x = tt_val_x.to(device)\n",
        "  tt_val_y = tt_val_y.to(device)\n",
        "  tt_val_labels = tt_val_labels.to(device)\n",
        "\n",
        "train_set = TensorDataset(tt_train_x, tt_train_y, tt_train_labels)\n",
        "val_set = TensorDataset(tt_val_x, tt_val_y, tt_val_labels)\n",
        "\n",
        "batch_size = 100\n",
        "train_loader = DataLoader(train_set, batch_size=batch_size, shuffle=True, num_workers=0)\n",
        "val_loader = DataLoader(val_set, batch_size=batch_size, shuffle=True, num_workers=0)"
      ],
      "execution_count": 69,
      "outputs": []
    },
    {
      "cell_type": "code",
      "metadata": {
        "id": "POaHk4C_vpXe"
      },
      "source": [
        "def color_features(input, randomize=False):\n",
        "  np.random.seed(42)\n",
        "  colors = []\n",
        "  colored_input = np.zeros((input.shape[0], 3, input.shape[1]))\n",
        "\n",
        "  if randomize:\n",
        "    rng = np.random.RandomState(42)\n",
        "    colored_input = dequantize(colored_input, rng)\n",
        "\n",
        "  for i in range(len(input))[:]:\n",
        "    r = np.random.permutation([[1, 0, 0], [0, 1, 0], [0, 0, 1]])\n",
        "    # print(r[0])\n",
        "    colors.append(r[0])\n",
        "    # print(np.argmax(r[0]))\n",
        "    colored_input[i][np.argmax(r[0])][:] = input[i]\n",
        "  \n",
        "  colored_input = colored_input.reshape(colored_input.shape[0], 3*28*28)\n",
        "\n",
        "  return (colored_input, np.array(colors))"
      ],
      "execution_count": 70,
      "outputs": []
    },
    {
      "cell_type": "code",
      "metadata": {
        "colab": {
          "base_uri": "https://localhost:8080/",
          "height": 803
        },
        "id": "m_WhSx9yYZjf",
        "outputId": "3acc7de1-e761-4f65-ec79-aad3a5615d4f"
      },
      "source": [
        "epochs = 30\n",
        "wd_rate = 1.0e-6\n",
        "conditioning_criteria = 'color'\n",
        "model = train(tt_train_x, \n",
        "              train_labels, \n",
        "              train_loader, \n",
        "              val_loader, \n",
        "              maxepochs=epochs, \n",
        "              weight_decay=wd_rate,\n",
        "              show_epoch_loss_progress=True,\n",
        "              conditional=True,\n",
        "              conditioning_criteria=conditioning_criteria)"
      ],
      "execution_count": 71,
      "outputs": [
        {
          "output_type": "stream",
          "name": "stdout",
          "text": [
            "Epoch: 1, Train loss: -5933.34619, Validation loss: -5987.27686\n",
            "Epoch: 2, Train loss: -4539.14404, Validation loss: -4643.97656\n",
            "Epoch: 3, Train loss: -5930.62793, Validation loss: -5997.41846\n",
            "Epoch: 4, Train loss: -6318.31348, Validation loss: -6335.98096\n",
            "Epoch: 5, Train loss: -6468.08350, Validation loss: -6457.81738\n",
            "Epoch: 6, Train loss: -6523.33008, Validation loss: -6529.95361\n",
            "Epoch: 7, Train loss: -6541.13867, Validation loss: -6566.61475\n",
            "Epoch: 8, Train loss: -6595.43115, Validation loss: -6610.06006\n",
            "Epoch: 9, Train loss: -6653.19873, Validation loss: -6635.95801\n",
            "Epoch: 10, Train loss: -6679.05615, Validation loss: -6684.85156\n",
            "Epoch: 11, Train loss: -6692.60059, Validation loss: -6694.79492\n",
            "Epoch: 12, Train loss: -6698.91406, Validation loss: -6705.97363\n",
            "Epoch: 13, Train loss: -6754.43506, Validation loss: -6721.69092\n",
            "Epoch: 14, Train loss: -6751.47217, Validation loss: -6750.50781\n",
            "Epoch: 15, Train loss: -6773.44971, Validation loss: -6786.34912\n",
            "Epoch: 16, Train loss: -6811.74609, Validation loss: -6809.75000\n",
            "Epoch: 17, Train loss: -6825.93848, Validation loss: -6816.94971\n",
            "Epoch: 18, Train loss: -6854.65723, Validation loss: -6819.40723\n",
            "Epoch: 19, Train loss: -6841.94873, Validation loss: -6837.42383\n",
            "Epoch: 20, Train loss: -6877.90234, Validation loss: -6857.33594\n",
            "Epoch: 21, Train loss: -6873.08936, Validation loss: -6861.23291\n",
            "Epoch: 22, Train loss: -6900.54883, Validation loss: -6880.27539\n",
            "Epoch: 23, Train loss: -6915.75342, Validation loss: -6884.34473\n",
            "Epoch: 24, Train loss: -6908.25000, Validation loss: -6901.74658\n",
            "Epoch: 25, Train loss: -6918.93359, Validation loss: -6913.66357\n",
            "Epoch: 26, Train loss: -6950.97363, Validation loss: -6919.20117\n",
            "Epoch: 27, Train loss: -6946.65039, Validation loss: -6919.19727\n",
            "Epoch: 28, Train loss: -6955.89355, Validation loss: -6907.61475\n",
            "Epoch: 29, Train loss: -6967.63965, Validation loss: -6922.85400\n",
            "Epoch: 30, Train loss: -6982.03223, Validation loss: -6918.18408\n"
          ]
        },
        {
          "output_type": "display_data",
          "data": {
            "image/png": "[encoded data removed]",
            "text/plain": [
              "<Figure size 432x288 with 1 Axes>"
            ]
          },
          "metadata": {
            "needs_background": "light"
          }
        }
      ]
    },
    {
      "cell_type": "code",
      "metadata": {
        "colab": {
          "base_uri": "https://localhost:8080/"
        },
        "id": "6DINS32rZ8wA",
        "outputId": "ee156b3b-47b6-4a09-b89d-f4fec49c1608"
      },
      "source": [
        "tt_train_labels.reshape(-1, 1).shape"
      ],
      "execution_count": null,
      "outputs": [
        {
          "output_type": "execute_result",
          "data": {
            "text/plain": [
              "torch.Size([50000, 1])"
            ]
          },
          "metadata": {},
          "execution_count": 39
        }
      ]
    },
    {
      "cell_type": "code",
      "metadata": {
        "id": "rliI-CI5Vi38"
      },
      "source": [
        ""
      ],
      "execution_count": null,
      "outputs": []
    },
    {
      "cell_type": "code",
      "metadata": {
        "colab": {
          "base_uri": "https://localhost:8080/"
        },
        "id": "Ycu5Gef0VTox",
        "outputId": "097bab3e-c3cd-4fb3-a746-d06dcdc4fc74"
      },
      "source": [
        "train_y.shape"
      ],
      "execution_count": null,
      "outputs": [
        {
          "output_type": "execute_result",
          "data": {
            "text/plain": [
              "(50000, 10)"
            ]
          },
          "metadata": {},
          "execution_count": 32
        }
      ]
    },
    {
      "cell_type": "code",
      "metadata": {
        "colab": {
          "base_uri": "https://localhost:8080/"
        },
        "id": "wFJpjXPCzFaa",
        "outputId": "90bc3612-da9a-446f-e026-60da253ec358"
      },
      "source": [
        "from google.colab import drive\n",
        "drive.mount('/content/drive')"
      ],
      "execution_count": 29,
      "outputs": [
        {
          "output_type": "stream",
          "name": "stdout",
          "text": [
            "Drive already mounted at /content/drive; to attempt to forcibly remount, call drive.mount(\"/content/drive\", force_remount=True).\n"
          ]
        }
      ]
    },
    {
      "cell_type": "code",
      "metadata": {
        "id": "hFdAVq_9zG-a"
      },
      "source": [
        "torch.save(model, \"/content/drive/MyDrive/Colab Notebooks/MAF-MNIST-2-11-2021-best.pth\")"
      ],
      "execution_count": null,
      "outputs": []
    },
    {
      "cell_type": "code",
      "metadata": {
        "id": "TMg5Jo_mlaxZ"
      },
      "source": [
        "model = torch.load('/content/drive/MyDrive/Colab Notebooks/MAF-MNIST-digit-cond-16-11-2021-best.pth', map_location=torch.device('cpu'))"
      ],
      "execution_count": null,
      "outputs": []
    },
    {
      "cell_type": "code",
      "metadata": {
        "colab": {
          "base_uri": "https://localhost:8080/",
          "height": 268
        },
        "id": "C4RBP1FIjsYL",
        "outputId": "9b9e55fc-4b7f-4e39-c098-c31a82ea65fb"
      },
      "source": [
        "with torch.no_grad():\n",
        "  z = model.sample(2)\n",
        "\n",
        "fig, axs = plt.subplots(2)\n",
        "z_cpu = z[0].cpu()\n",
        "\n",
        "axs[0].imshow(inv_logit(z_cpu).detach().numpy().reshape(28,28), cmap='gray')\n",
        "plt.show()"
      ],
      "execution_count": null,
      "outputs": [
        {
          "output_type": "display_data",
          "data": {
            "image/png": "[encoded data removed]",
            "text/plain": [
              "<Figure size 432x288 with 2 Axes>"
            ]
          },
          "metadata": {
            "needs_background": "light"
          }
        }
      ]
    },
    {
      "cell_type": "code",
      "metadata": {
        "colab": {
          "base_uri": "https://localhost:8080/",
          "height": 282
        },
        "id": "tn0P8DGdo7PB",
        "outputId": "6e32d27a-535f-4957-dfd4-2e1b10b8f10f"
      },
      "source": [
        "with torch.no_grad():\n",
        "  z = model.sample(1, context=tt_train_y[0].reshape(-1, 3))\n",
        "  z_cpu = z[0].cpu()\n",
        "  plt.imshow(np.transpose(inv_logit(z_cpu).detach().numpy().reshape(3,28,28), (1,2,0)))\n",
        "  plt.show()"
      ],
      "execution_count": 38,
      "outputs": [
        {
          "output_type": "stream",
          "name": "stderr",
          "text": [
            "Clipping input data to the valid range for imshow with RGB data ([0..1] for floats or [0..255] for integers).\n"
          ]
        },
        {
          "output_type": "display_data",
          "data": {
            "image/png": "[encoded data removed]",
            "text/plain": [
              "<Figure size 432x288 with 1 Axes>"
            ]
          },
          "metadata": {
            "needs_background": "light"
          }
        }
      ]
    },
    {
      "cell_type": "code",
      "metadata": {
        "colab": {
          "base_uri": "https://localhost:8080/"
        },
        "id": "i1SKixQ4GMn3",
        "outputId": "4c1fb7ab-0b48-4a71-bc8b-946d0ce89fbe"
      },
      "source": [
        "tt_train_y[0].shape"
      ],
      "execution_count": 42,
      "outputs": [
        {
          "output_type": "execute_result",
          "data": {
            "text/plain": [
              "torch.Size([3])"
            ]
          },
          "metadata": {},
          "execution_count": 42
        }
      ]
    },
    {
      "cell_type": "code",
      "metadata": {
        "colab": {
          "base_uri": "https://localhost:8080/",
          "height": 265
        },
        "id": "oK-gc-13yZdX",
        "outputId": "b0a76681-997b-4327-e17d-830f0aeeeccd"
      },
      "source": [
        "plt.imshow(inv_logit(z_cpu).detach().numpy().reshape(28,28), cmap='gray')\n",
        "plt.show()"
      ],
      "execution_count": null,
      "outputs": [
        {
          "output_type": "display_data",
          "data": {
            "image/png": "[encoded data removed]",
            "text/plain": [
              "<Figure size 432x288 with 1 Axes>"
            ]
          },
          "metadata": {
            "needs_background": "light"
          }
        }
      ]
    },
    {
      "cell_type": "code",
      "metadata": {
        "colab": {
          "base_uri": "https://localhost:8080/"
        },
        "id": "FRKc6yMDykY7",
        "outputId": "f85a4463-2ca2-4eb2-df90-c4abea90f3ea"
      },
      "source": [
        "print(np.argmax(tt_train_y[0]))"
      ],
      "execution_count": null,
      "outputs": [
        {
          "output_type": "stream",
          "name": "stdout",
          "text": [
            "tensor(5)\n"
          ]
        }
      ]
    },
    {
      "cell_type": "code",
      "metadata": {
        "id": "mek44nlzqeB1"
      },
      "source": [
        "def inv_logit(x):\n",
        "  alpha = 1.0e-6\n",
        "  return (1.0 / (1.0 + np.exp(-x)) - alpha) / (1 - 2*alpha) "
      ],
      "execution_count": 30,
      "outputs": []
    },
    {
      "cell_type": "markdown",
      "metadata": {
        "id": "A8qydxov5a4N"
      },
      "source": [
        "Test data"
      ]
    },
    {
      "cell_type": "code",
      "metadata": {
        "id": "w9axp0Qm2hyz"
      },
      "source": [
        "tt_test_x = torch.tensor(test_x, dtype=torch.float32)\n",
        "tt_test_y = torch.tensor(test_y, dtype=torch.float32)\n",
        "tt_test_labels = torch.tensor(test_labels, dtype=torch.float32)\n",
        "\n",
        "if torch.cuda.is_available():\n",
        "  tt_test_x = tt_test_x.to(device)\n",
        "  tt_test_y = tt_test_y.to(device)\n",
        "  tt_test_labels = tt_test_labels.to(device)"
      ],
      "execution_count": null,
      "outputs": []
    },
    {
      "cell_type": "code",
      "metadata": {
        "id": "gFlQLGgG1b9O"
      },
      "source": [
        ""
      ],
      "execution_count": null,
      "outputs": []
    },
    {
      "cell_type": "markdown",
      "metadata": {
        "id": "KLYiVm4o3b8Q"
      },
      "source": [
        "\n",
        "\n",
        "# Conditioned Moons\n"
      ]
    },
    {
      "cell_type": "code",
      "metadata": {
        "id": "LA9UnRTb3hfY"
      },
      "source": [
        "import sklearn.datasets as datasets"
      ],
      "execution_count": null,
      "outputs": []
    },
    {
      "cell_type": "code",
      "metadata": {
        "colab": {
          "base_uri": "https://localhost:8080/",
          "height": 265
        },
        "id": "E_V8P0wq3nTT",
        "outputId": "caffc3d3-f593-4623-d1e3-4368c5027db7"
      },
      "source": [
        "x, y = datasets.make_moons(128, noise=.1)\n",
        "plt.scatter(x[:, 0], x[:, 1], c=y);"
      ],
      "execution_count": null,
      "outputs": [
        {
          "output_type": "display_data",
          "data": {
            "image/png": "[encoded data removed]",
            "text/plain": [
              "<Figure size 432x288 with 1 Axes>"
            ]
          },
          "metadata": {
            "needs_background": "light"
          }
        }
      ]
    },
    {
      "cell_type": "code",
      "metadata": {
        "id": "0Gxv6UH43ojz"
      },
      "source": [
        "num_layers = 5\n",
        "base_dist = ConditionalDiagonalNormal(shape=[2], \n",
        "                                      context_encoder=nn.Linear(1, 4))\n",
        "\n",
        "transforms = []\n",
        "for _ in range(num_layers):\n",
        "    transforms.append(ReversePermutation(features=2))\n",
        "    transforms.append(MaskedAffineAutoregressiveTransform(features=2, \n",
        "                                                          hidden_features=4, \n",
        "                                                          context_features=1))\n",
        "transform = CompositeTransform(transforms)\n",
        "\n",
        "flow = Flow(transform, base_dist)\n",
        "optimizer = optim.Adam(flow.parameters())"
      ],
      "execution_count": null,
      "outputs": []
    },
    {
      "cell_type": "code",
      "metadata": {
        "id": "ZJbzUPKR3q48"
      },
      "source": [
        "num_iter = 5000\n",
        "for i in range(num_iter):\n",
        "    x, y = datasets.make_moons(128, noise=.1)\n",
        "    x = torch.tensor(x, dtype=torch.float32)\n",
        "    print(\"x:{}\".format(x.shape))\n",
        "    y = torch.tensor(y, dtype=torch.float32).reshape(-1, 1)\n",
        "    print(\"y:{}\".format(y.shape))\n",
        "    optimizer.zero_grad()\n",
        "    loss = -flow.log_prob(inputs=x, context=y).mean()\n",
        "    loss.backward()\n",
        "    optimizer.step()\n",
        "    \n",
        "    if (i + 1) % 500 == 0:\n",
        "        fig, ax = plt.subplots(1, 2)\n",
        "        xline = torch.linspace(-1.5, 2.5)\n",
        "        yline = torch.linspace(-.75, 1.25)\n",
        "        xgrid, ygrid = torch.meshgrid(xline, yline)\n",
        "        xyinput = torch.cat([xgrid.reshape(-1, 1), ygrid.reshape(-1, 1)], dim=1)\n",
        "\n",
        "        with torch.no_grad():\n",
        "            zgrid0 = flow.log_prob(xyinput, torch.zeros(10000, 1)).exp().reshape(100, 100)\n",
        "            zgrid1 = flow.log_prob(xyinput, torch.ones(10000, 1)).exp().reshape(100, 100)\n",
        "\n",
        "        ax[0].contourf(xgrid.numpy(), ygrid.numpy(), zgrid0.numpy())\n",
        "        ax[1].contourf(xgrid.numpy(), ygrid.numpy(), zgrid1.numpy())\n",
        "        plt.title('iteration {}'.format(i + 1))\n",
        "        plt.show()"
      ],
      "execution_count": null,
      "outputs": []
    },
    {
      "cell_type": "code",
      "metadata": {
        "colab": {
          "base_uri": "https://localhost:8080/"
        },
        "id": "96CfdIvp4KIp",
        "outputId": "e074a3c7-73ad-437e-b00e-68439d798e49"
      },
      "source": [
        "x, y = datasets.make_moons(128, noise=.1)\n",
        "train_y[0].reshape(-1, 1).shape\n",
        "print(train_x.shape)\n",
        "print(train_y.shape)"
      ],
      "execution_count": null,
      "outputs": [
        {
          "output_type": "stream",
          "name": "stdout",
          "text": [
            "(50000, 784)\n",
            "(50000, 10)\n"
          ]
        }
      ]
    },
    {
      "cell_type": "code",
      "metadata": {
        "id": "Crwlbqo-35Ge"
      },
      "source": [
        ""
      ],
      "execution_count": null,
      "outputs": []
    }
  ]
}